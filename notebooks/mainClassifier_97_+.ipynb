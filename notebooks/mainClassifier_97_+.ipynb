{
  "nbformat": 4,
  "nbformat_minor": 0,
  "metadata": {
    "colab": {
      "name": "mainClassifier-97%+.ipynb",
      "provenance": [],
      "toc_visible": true
    },
    "kernelspec": {
      "name": "python3",
      "display_name": "Python 3"
    },
    "accelerator": "GPU"
  },
  "cells": [
    {
      "cell_type": "code",
      "metadata": {
        "colab": {
          "base_uri": "https://localhost:8080/"
        },
        "id": "a4g0nqzS4rDi",
        "outputId": "8b763d56-6ac8-4214-ef89-06cee8c3c5c6"
      },
      "source": [
        "from google.colab import drive\r\n",
        "drive.mount('/content/drive')"
      ],
      "execution_count": null,
      "outputs": [
        {
          "output_type": "stream",
          "text": [
            "Drive already mounted at /content/drive; to attempt to forcibly remount, call drive.mount(\"/content/drive\", force_remount=True).\n"
          ],
          "name": "stdout"
        }
      ]
    },
    {
      "cell_type": "code",
      "metadata": {
        "id": "C-Vy8RKJ42NO"
      },
      "source": [
        "import pandas as pd\r\n",
        "import numpy as np\r\n",
        "import matplotlib.pyplot as plt\r\n",
        "import seaborn as sns\r\n",
        "from sklearn.model_selection import train_test_split"
      ],
      "execution_count": 43,
      "outputs": []
    },
    {
      "cell_type": "markdown",
      "metadata": {
        "id": "JLM_11nSRxpj"
      },
      "source": [
        "#### Train DataSet"
      ]
    },
    {
      "cell_type": "code",
      "metadata": {
        "id": "NIqgMa-mmI1g"
      },
      "source": [
        "tweetPath = '/content/drive/MyDrive/interIIT/tweet_train_cleaned.pkl'\r\n",
        "articlePath = '/content/drive/MyDrive/interIIT/article_train_cleaned.pkl'"
      ],
      "execution_count": 44,
      "outputs": []
    },
    {
      "cell_type": "code",
      "metadata": {
        "colab": {
          "base_uri": "https://localhost:8080/",
          "height": 284
        },
        "id": "_iUsItMK5XS5",
        "outputId": "5eecf0ae-2a3b-4a2d-c180-96b018b4d15d"
      },
      "source": [
        "tweets = pd.read_pickle(tweetPath)\r\n",
        "tweets.describe()"
      ],
      "execution_count": 45,
      "outputs": [
        {
          "output_type": "execute_result",
          "data": {
            "text/html": [
              "<div>\n",
              "<style scoped>\n",
              "    .dataframe tbody tr th:only-of-type {\n",
              "        vertical-align: middle;\n",
              "    }\n",
              "\n",
              "    .dataframe tbody tr th {\n",
              "        vertical-align: top;\n",
              "    }\n",
              "\n",
              "    .dataframe thead th {\n",
              "        text-align: right;\n",
              "    }\n",
              "</style>\n",
              "<table border=\"1\" class=\"dataframe\">\n",
              "  <thead>\n",
              "    <tr style=\"text-align: right;\">\n",
              "      <th></th>\n",
              "      <th>Mobile_Tech_Tag</th>\n",
              "    </tr>\n",
              "  </thead>\n",
              "  <tbody>\n",
              "    <tr>\n",
              "      <th>count</th>\n",
              "      <td>3095.000000</td>\n",
              "    </tr>\n",
              "    <tr>\n",
              "      <th>mean</th>\n",
              "      <td>0.250081</td>\n",
              "    </tr>\n",
              "    <tr>\n",
              "      <th>std</th>\n",
              "      <td>0.433129</td>\n",
              "    </tr>\n",
              "    <tr>\n",
              "      <th>min</th>\n",
              "      <td>0.000000</td>\n",
              "    </tr>\n",
              "    <tr>\n",
              "      <th>25%</th>\n",
              "      <td>0.000000</td>\n",
              "    </tr>\n",
              "    <tr>\n",
              "      <th>50%</th>\n",
              "      <td>0.000000</td>\n",
              "    </tr>\n",
              "    <tr>\n",
              "      <th>75%</th>\n",
              "      <td>0.500000</td>\n",
              "    </tr>\n",
              "    <tr>\n",
              "      <th>max</th>\n",
              "      <td>1.000000</td>\n",
              "    </tr>\n",
              "  </tbody>\n",
              "</table>\n",
              "</div>"
            ],
            "text/plain": [
              "       Mobile_Tech_Tag\n",
              "count      3095.000000\n",
              "mean          0.250081\n",
              "std           0.433129\n",
              "min           0.000000\n",
              "25%           0.000000\n",
              "50%           0.000000\n",
              "75%           0.500000\n",
              "max           1.000000"
            ]
          },
          "metadata": {
            "tags": []
          },
          "execution_count": 45
        }
      ]
    },
    {
      "cell_type": "code",
      "metadata": {
        "colab": {
          "base_uri": "https://localhost:8080/",
          "height": 284
        },
        "id": "7bbwH4yhml4u",
        "outputId": "4d8434c6-2ca2-4b8f-ec87-6f0b06a68a76"
      },
      "source": [
        "articles = pd.read_pickle(articlePath)\r\n",
        "articles.describe()"
      ],
      "execution_count": 46,
      "outputs": [
        {
          "output_type": "execute_result",
          "data": {
            "text/html": [
              "<div>\n",
              "<style scoped>\n",
              "    .dataframe tbody tr th:only-of-type {\n",
              "        vertical-align: middle;\n",
              "    }\n",
              "\n",
              "    .dataframe tbody tr th {\n",
              "        vertical-align: top;\n",
              "    }\n",
              "\n",
              "    .dataframe thead th {\n",
              "        text-align: right;\n",
              "    }\n",
              "</style>\n",
              "<table border=\"1\" class=\"dataframe\">\n",
              "  <thead>\n",
              "    <tr style=\"text-align: right;\">\n",
              "      <th></th>\n",
              "      <th>Mobile_Tech_Flag</th>\n",
              "    </tr>\n",
              "  </thead>\n",
              "  <tbody>\n",
              "    <tr>\n",
              "      <th>count</th>\n",
              "      <td>3095.000000</td>\n",
              "    </tr>\n",
              "    <tr>\n",
              "      <th>mean</th>\n",
              "      <td>0.243619</td>\n",
              "    </tr>\n",
              "    <tr>\n",
              "      <th>std</th>\n",
              "      <td>0.429335</td>\n",
              "    </tr>\n",
              "    <tr>\n",
              "      <th>min</th>\n",
              "      <td>0.000000</td>\n",
              "    </tr>\n",
              "    <tr>\n",
              "      <th>25%</th>\n",
              "      <td>0.000000</td>\n",
              "    </tr>\n",
              "    <tr>\n",
              "      <th>50%</th>\n",
              "      <td>0.000000</td>\n",
              "    </tr>\n",
              "    <tr>\n",
              "      <th>75%</th>\n",
              "      <td>0.000000</td>\n",
              "    </tr>\n",
              "    <tr>\n",
              "      <th>max</th>\n",
              "      <td>1.000000</td>\n",
              "    </tr>\n",
              "  </tbody>\n",
              "</table>\n",
              "</div>"
            ],
            "text/plain": [
              "       Mobile_Tech_Flag\n",
              "count       3095.000000\n",
              "mean           0.243619\n",
              "std            0.429335\n",
              "min            0.000000\n",
              "25%            0.000000\n",
              "50%            0.000000\n",
              "75%            0.000000\n",
              "max            1.000000"
            ]
          },
          "metadata": {
            "tags": []
          },
          "execution_count": 46
        }
      ]
    },
    {
      "cell_type": "code",
      "metadata": {
        "colab": {
          "base_uri": "https://localhost:8080/"
        },
        "id": "tNvcbrA_oqDs",
        "outputId": "44680dff-02a1-4b5a-fa7c-8e7619403ef3"
      },
      "source": [
        "articles['Mobile_Tech_Flag'].value_counts()"
      ],
      "execution_count": 47,
      "outputs": [
        {
          "output_type": "execute_result",
          "data": {
            "text/plain": [
              "0    2341\n",
              "1     754\n",
              "Name: Mobile_Tech_Flag, dtype: int64"
            ]
          },
          "metadata": {
            "tags": []
          },
          "execution_count": 47
        }
      ]
    },
    {
      "cell_type": "code",
      "metadata": {
        "id": "wkuirqVSnot_"
      },
      "source": [
        "newData = articles.drop(['Headline','urls'],axis=1)\r\n",
        "newtweet = pd.DataFrame({\r\n",
        "    'Text_ID': tweets['Tweet_ID'],\r\n",
        "    'Text': tweets['Tweet'],\r\n",
        "    'Mobile_Tech_Flag': tweets['Mobile_Tech_Tag']\r\n",
        "})\r\n",
        "newData = newData.append(newtweet)"
      ],
      "execution_count": 48,
      "outputs": []
    },
    {
      "cell_type": "code",
      "metadata": {
        "id": "CirgdtJzQ_M_"
      },
      "source": [
        "newData.reset_index(drop=True,inplace=True)"
      ],
      "execution_count": 49,
      "outputs": []
    },
    {
      "cell_type": "markdown",
      "metadata": {
        "id": "VSbU7bPtR4Tl"
      },
      "source": [
        "### Val DataSet"
      ]
    },
    {
      "cell_type": "code",
      "metadata": {
        "id": "N3i7ZsulR3xN"
      },
      "source": [
        "tweetvPath = '/content/drive/MyDrive/interIIT/tweet_dev_cleaned.pkl'\r\n",
        "artvPath = '/content/drive/MyDrive/interIIT/article_dev_cleaned.pkl'\r\n",
        "vtweets = pd.read_pickle(tweetvPath)\r\n",
        "varticle = pd.read_pickle(artvPath)"
      ],
      "execution_count": 50,
      "outputs": []
    },
    {
      "cell_type": "code",
      "metadata": {
        "id": "_tR2BtsbSmKz"
      },
      "source": [
        "vnewData = varticle.drop(['Headline','urls'],axis=1)\r\n",
        "vnewtweet = pd.DataFrame({\r\n",
        "    'Text_ID': vtweets['Tweet_ID'],\r\n",
        "    'Text': vtweets['Tweet'],\r\n",
        "    'Mobile_Tech_Flag': vtweets['Mobile_Tech_Tag']\r\n",
        "})\r\n",
        "vnewData = vnewData.append(vnewtweet)\r\n",
        "vnewData.reset_index(drop=True,inplace=True)"
      ],
      "execution_count": 51,
      "outputs": []
    },
    {
      "cell_type": "code",
      "metadata": {
        "id": "q1mI6jVGXpU4"
      },
      "source": [
        "X_train = newData.Text.values\r\n",
        "y_train = newData.Mobile_Tech_Flag.values\r\n",
        "X_val = vnewData.Text.values\r\n",
        "y_val = vnewData.Mobile_Tech_Flag.values"
      ],
      "execution_count": 52,
      "outputs": []
    },
    {
      "cell_type": "code",
      "metadata": {
        "colab": {
          "base_uri": "https://localhost:8080/"
        },
        "id": "0qjWEZ9oX9qM",
        "outputId": "c16b61fa-4ae4-4116-a944-3afff4eecd7d"
      },
      "source": [
        "np.unique(y_train)"
      ],
      "execution_count": 53,
      "outputs": [
        {
          "output_type": "execute_result",
          "data": {
            "text/plain": [
              "array([0, 1])"
            ]
          },
          "metadata": {
            "tags": []
          },
          "execution_count": 53
        }
      ]
    },
    {
      "cell_type": "code",
      "metadata": {
        "colab": {
          "base_uri": "https://localhost:8080/"
        },
        "id": "Rpnchv4yXoqz",
        "outputId": "1c2fbe06-aa9c-4d85-aca5-dd29ae87004c"
      },
      "source": [
        "import torch\r\n",
        "\r\n",
        "if torch.cuda.is_available():       \r\n",
        "    device = torch.device(\"cuda\")\r\n",
        "    print(f'There are {torch.cuda.device_count()} GPU(s) available.')\r\n",
        "    print('Device name:', torch.cuda.get_device_name(0))\r\n",
        "\r\n",
        "else:\r\n",
        "    print('No GPU available, using the CPU instead.')\r\n",
        "    device = torch.device(\"cpu\")"
      ],
      "execution_count": 54,
      "outputs": [
        {
          "output_type": "stream",
          "text": [
            "There are 1 GPU(s) available.\n",
            "Device name: Tesla K80\n"
          ],
          "name": "stdout"
        }
      ]
    },
    {
      "cell_type": "code",
      "metadata": {
        "colab": {
          "base_uri": "https://localhost:8080/"
        },
        "id": "xAq6jA75aDgN",
        "outputId": "6949cb8c-a664-4e6f-abba-f48173adf127"
      },
      "source": [
        "!nvidia-smi"
      ],
      "execution_count": 55,
      "outputs": [
        {
          "output_type": "stream",
          "text": [
            "Mon Mar  8 15:15:29 2021       \n",
            "+-----------------------------------------------------------------------------+\n",
            "| NVIDIA-SMI 460.39       Driver Version: 460.32.03    CUDA Version: 11.2     |\n",
            "|-------------------------------+----------------------+----------------------+\n",
            "| GPU  Name        Persistence-M| Bus-Id        Disp.A | Volatile Uncorr. ECC |\n",
            "| Fan  Temp  Perf  Pwr:Usage/Cap|         Memory-Usage | GPU-Util  Compute M. |\n",
            "|                               |                      |               MIG M. |\n",
            "|===============================+======================+======================|\n",
            "|   0  Tesla K80           Off  | 00000000:00:04.0 Off |                    0 |\n",
            "| N/A   65C    P0    71W / 149W |  11432MiB / 11441MiB |      0%      Default |\n",
            "|                               |                      |                  N/A |\n",
            "+-------------------------------+----------------------+----------------------+\n",
            "                                                                               \n",
            "+-----------------------------------------------------------------------------+\n",
            "| Processes:                                                                  |\n",
            "|  GPU   GI   CI        PID   Type   Process name                  GPU Memory |\n",
            "|        ID   ID                                                   Usage      |\n",
            "|=============================================================================|\n",
            "+-----------------------------------------------------------------------------+\n"
          ],
          "name": "stdout"
        }
      ]
    },
    {
      "cell_type": "code",
      "metadata": {
        "colab": {
          "base_uri": "https://localhost:8080/"
        },
        "id": "M_nZzd--YrGQ",
        "outputId": "b5bcbbd2-c939-4e6e-9905-5655b9d3de82"
      },
      "source": [
        "!pip install transformers"
      ],
      "execution_count": 56,
      "outputs": [
        {
          "output_type": "stream",
          "text": [
            "Requirement already satisfied: transformers in /usr/local/lib/python3.7/dist-packages (4.3.3)\n",
            "Requirement already satisfied: tqdm>=4.27 in /usr/local/lib/python3.7/dist-packages (from transformers) (4.41.1)\n",
            "Requirement already satisfied: numpy>=1.17 in /usr/local/lib/python3.7/dist-packages (from transformers) (1.19.5)\n",
            "Requirement already satisfied: packaging in /usr/local/lib/python3.7/dist-packages (from transformers) (20.9)\n",
            "Requirement already satisfied: sacremoses in /usr/local/lib/python3.7/dist-packages (from transformers) (0.0.43)\n",
            "Requirement already satisfied: filelock in /usr/local/lib/python3.7/dist-packages (from transformers) (3.0.12)\n",
            "Requirement already satisfied: requests in /usr/local/lib/python3.7/dist-packages (from transformers) (2.23.0)\n",
            "Requirement already satisfied: importlib-metadata; python_version < \"3.8\" in /usr/local/lib/python3.7/dist-packages (from transformers) (3.7.0)\n",
            "Requirement already satisfied: tokenizers<0.11,>=0.10.1 in /usr/local/lib/python3.7/dist-packages (from transformers) (0.10.1)\n",
            "Requirement already satisfied: regex!=2019.12.17 in /usr/local/lib/python3.7/dist-packages (from transformers) (2019.12.20)\n",
            "Requirement already satisfied: pyparsing>=2.0.2 in /usr/local/lib/python3.7/dist-packages (from packaging->transformers) (2.4.7)\n",
            "Requirement already satisfied: joblib in /usr/local/lib/python3.7/dist-packages (from sacremoses->transformers) (1.0.1)\n",
            "Requirement already satisfied: click in /usr/local/lib/python3.7/dist-packages (from sacremoses->transformers) (7.1.2)\n",
            "Requirement already satisfied: six in /usr/local/lib/python3.7/dist-packages (from sacremoses->transformers) (1.15.0)\n",
            "Requirement already satisfied: chardet<4,>=3.0.2 in /usr/local/lib/python3.7/dist-packages (from requests->transformers) (3.0.4)\n",
            "Requirement already satisfied: idna<3,>=2.5 in /usr/local/lib/python3.7/dist-packages (from requests->transformers) (2.10)\n",
            "Requirement already satisfied: urllib3!=1.25.0,!=1.25.1,<1.26,>=1.21.1 in /usr/local/lib/python3.7/dist-packages (from requests->transformers) (1.24.3)\n",
            "Requirement already satisfied: certifi>=2017.4.17 in /usr/local/lib/python3.7/dist-packages (from requests->transformers) (2020.12.5)\n",
            "Requirement already satisfied: typing-extensions>=3.6.4; python_version < \"3.8\" in /usr/local/lib/python3.7/dist-packages (from importlib-metadata; python_version < \"3.8\"->transformers) (3.7.4.3)\n",
            "Requirement already satisfied: zipp>=0.5 in /usr/local/lib/python3.7/dist-packages (from importlib-metadata; python_version < \"3.8\"->transformers) (3.4.0)\n"
          ],
          "name": "stdout"
        }
      ]
    },
    {
      "cell_type": "code",
      "metadata": {
        "id": "4gJ_islGWwax"
      },
      "source": [
        "from transformers import BertTokenizer\r\n",
        "tokenizer = BertTokenizer.from_pretrained('bert-base-uncased', do_lower_case=True)\r\n",
        "def preprocessing_for_bert(data):\r\n",
        "    input_ids = []\r\n",
        "    attention_masks = []\r\n",
        "\r\n",
        "    # For every sentence...\r\n",
        "    for sent in data:\r\n",
        "        encoded_sent = tokenizer.encode_plus(\r\n",
        "            text=sent,  \r\n",
        "            add_special_tokens=True,        \r\n",
        "            max_length=MAX_LEN,             \r\n",
        "            pad_to_max_length=True,         \r\n",
        "            #return_tensors='pt',           \r\n",
        "            return_attention_mask=True   \r\n",
        "            )\r\n",
        "        input_ids.append(encoded_sent.get('input_ids'))\r\n",
        "        attention_masks.append(encoded_sent.get('attention_mask'))\r\n",
        "\r\n",
        "    # Convert lists to tensors\r\n",
        "    input_ids = torch.tensor(input_ids)\r\n",
        "    attention_masks = torch.tensor(attention_masks)\r\n",
        "\r\n",
        "    return input_ids, attention_masks"
      ],
      "execution_count": 57,
      "outputs": []
    },
    {
      "cell_type": "code",
      "metadata": {
        "colab": {
          "base_uri": "https://localhost:8080/"
        },
        "id": "ACpQkcaYZvyx",
        "outputId": "b1364f12-0add-4baa-9ee6-cdc5088e0df5"
      },
      "source": [
        "type(X_train)"
      ],
      "execution_count": 58,
      "outputs": [
        {
          "output_type": "execute_result",
          "data": {
            "text/plain": [
              "numpy.ndarray"
            ]
          },
          "metadata": {
            "tags": []
          },
          "execution_count": 58
        }
      ]
    },
    {
      "cell_type": "code",
      "metadata": {
        "colab": {
          "base_uri": "https://localhost:8080/"
        },
        "id": "xJGxV4hnZBm0",
        "outputId": "718a1bca-3ef5-410a-f598-9be602a5ce58"
      },
      "source": [
        "# all_tweets = newData.Text.values\r\n",
        "\r\n",
        "# # Encode our concatenated data\r\n",
        "# encoded_tweets = [tokenizer.encode(sent, add_special_tokens=True) for sent in all_tweets]\r\n",
        "\r\n",
        "# # Find the maximum length\r\n",
        "# max_len = max([len(sent) for sent in encoded_tweets])\r\n",
        "# print('Max length: ', max_len)"
      ],
      "execution_count": null,
      "outputs": [
        {
          "output_type": "stream",
          "text": [
            "Token indices sequence length is longer than the specified maximum sequence length for this model (793 > 512). Running this sequence through the model will result in indexing errors\n"
          ],
          "name": "stderr"
        },
        {
          "output_type": "stream",
          "text": [
            "Max length:  17469\n"
          ],
          "name": "stdout"
        }
      ]
    },
    {
      "cell_type": "code",
      "metadata": {
        "colab": {
          "base_uri": "https://localhost:8080/",
          "height": 137
        },
        "id": "9ukaWXe7Tb0c",
        "outputId": "2414a9e3-2d7e-4af4-b6a5-e8a342a1f377"
      },
      "source": [
        "X = X_train[4]\r\n",
        "X"
      ],
      "execution_count": 59,
      "outputs": [
        {
          "output_type": "execute_result",
          "data": {
            "application/vnd.google.colaboratory.intrinsic+json": {
              "type": "string"
            },
            "text/plain": [
              "'Oppo K7x को 5G सपोर्ट और क्वाड-रियर कैमरा के साथ किया गया लॉन्च, ये है कीमत Oppo K7x को कंपनी की ओर से ओप्पो के नए 5G स्मार्टफ़ोन या ऐसा भी कह सकते हैं कि लेटेस्ट Oppo 5G स्मार्टफ़ोन के तौर पर चीन के बाजारों में लॉन्च कर दिया गया है। इस मोबाइल फोन के बारे में पिछले महीने कुछ जानकारी सामने आई थी लेकिन अब इसे आधिकारिक तौर पर लॉन्च कर दिया गया है। Oppo K7x में आपको कुछ खास फीचर्स भी मिल रहे है, इन फीचर्स में एक क्वाड-कैमरा सेटअप और ओक्टा-कोर प्रोसेसर भी मिल रहा है। इसके अलावा इस मोबाइल फोन दो अलग अलग रंगों के अलावा सिंगल रैम और स्टोरेज मॉडल में लॉन्च किया गया है। Oppo K7x की कीमत और अन्य डिटेल्स Oppo K7x को चीन के बाजार में CNY 1,499 यानी लगभग Rs 16,700 की कीमत में एक ही वैरिएंट यानी 6GB रैम और 128GB स्टोरेज में लॉन्च कर दिया गया है। इस मोबाइल फोन को ब्लैक मिरर और ब्लू शैडो कलर ऑप्शन में लॉन्च किया गया है। इसके अलावा आपको बता देते है कि इस मोबाइल फोन को चीन में प्री-ऑर्डर के लिए भी लाया जा चुका है, साथ ही बता देते है कि फोन की सेल 11 नवम्बर को शुरू हो जाने वाली है। अभी की चर्चा करें तो इस बारे में कोई भी जानकारी मौजूद नहीं है कि आखिर इस मोबाइल फोन को भारत के बाजार में सेल के लिए कब लाया जाने वाला है, या इसकी सेल कब होने वाली है। Oppo K7x स्पेसिफ़िकेशन्स और फीचर्स Oppo K7x मोबाइल फोन को एंड्राइड 10 के साथ कलरOS 7. 2 पर लॉन्च किया गया है, इसके अलावा इस मोबाइल फोन में आपको एक 6. 5-इंच की FHD+ डिस्प्ले मिल रही है। इसके अलावा स्क्रीन पर आपको कोर्निंग गोरिला ग्लास 3 का प्रोटेक्शन भी मिल रहा है। इस मोबाइल फोन में यानी Oppo K7x में आपको ओक्टा-कोर मीडियाटेक Dimensity 720 प्रोसेसर मिल रहा है, इसके अलावा फोन में आपको एक 6GB की LPDDR4x रैम मिल रही है। अगर हम फोटोग्राफी आदि की बात करते हैं तो इस मोबाइल फोन में यानी Oppo K7x में आपको एक क्वाड-कैमरा सेटअप मिल रहा है, इसके अलावा फोन में आपको एक 48MP का प्राइमरी सेंसर मिल रहा है, इसके अलावा फोन में आपको एक 8MP का अल्ट्रा-वाइड-एंगल कैमरा मिल रहा है, इसके अलावा फोन में आपको एक 2MP का ब्लैक और वाइट सेंसर मिल रहा है, इसके अलावा फोन में आपको एक 2MP का मैक्रो लेंस भी मिल रहा है। इसके अलावा फोन में आपको एक 16MP का सेल्फी कैमरा भी मिल रहा है, इसे आप होल-पंच कटआउट पर देख सकते हैं। मोबाइल फोन में आपको 128GB की नॉन-एक्सपेंडेबल स्टोरेज मिल रही है, इसके अलावा फोन में आपको एक 5000mAh क्षमता की 30W की फ़ास्ट चार्जिंग मिल रही है। हालाँकि इतना ही नहीं इस मोबाइल फोन में आपको ड्यूल बेंड वा'"
            ]
          },
          "metadata": {
            "tags": []
          },
          "execution_count": 59
        }
      ]
    },
    {
      "cell_type": "code",
      "metadata": {
        "colab": {
          "base_uri": "https://localhost:8080/"
        },
        "id": "HDLnllBsVKVj",
        "outputId": "ad1d9b78-a6c5-4a6d-8d39-a1c383e3ed06"
      },
      "source": [
        "MAX_LEN = 300\r\n",
        "\r\n",
        "token_ids = list(preprocessing_for_bert([X])[0].squeeze().numpy())\r\n",
        "print('Original: ', X)\r\n",
        "print('Token IDs: ', token_ids)"
      ],
      "execution_count": 60,
      "outputs": [
        {
          "output_type": "stream",
          "text": [
            "Truncation was not explicitly activated but `max_length` is provided a specific value, please use `truncation=True` to explicitly truncate examples to max length. Defaulting to 'longest_first' truncation strategy. If you encode pairs of sequences (GLUE-style) with the tokenizer you can select this strategy more precisely by providing a specific strategy to `truncation`.\n"
          ],
          "name": "stderr"
        },
        {
          "output_type": "stream",
          "text": [
            "Original:  Oppo K7x को 5G सपोर्ट और क्वाड-रियर कैमरा के साथ किया गया लॉन्च, ये है कीमत Oppo K7x को कंपनी की ओर से ओप्पो के नए 5G स्मार्टफ़ोन या ऐसा भी कह सकते हैं कि लेटेस्ट Oppo 5G स्मार्टफ़ोन के तौर पर चीन के बाजारों में लॉन्च कर दिया गया है। इस मोबाइल फोन के बारे में पिछले महीने कुछ जानकारी सामने आई थी लेकिन अब इसे आधिकारिक तौर पर लॉन्च कर दिया गया है। Oppo K7x में आपको कुछ खास फीचर्स भी मिल रहे है, इन फीचर्स में एक क्वाड-कैमरा सेटअप और ओक्टा-कोर प्रोसेसर भी मिल रहा है। इसके अलावा इस मोबाइल फोन दो अलग अलग रंगों के अलावा सिंगल रैम और स्टोरेज मॉडल में लॉन्च किया गया है। Oppo K7x की कीमत और अन्य डिटेल्स Oppo K7x को चीन के बाजार में CNY 1,499 यानी लगभग Rs 16,700 की कीमत में एक ही वैरिएंट यानी 6GB रैम और 128GB स्टोरेज में लॉन्च कर दिया गया है। इस मोबाइल फोन को ब्लैक मिरर और ब्लू शैडो कलर ऑप्शन में लॉन्च किया गया है। इसके अलावा आपको बता देते है कि इस मोबाइल फोन को चीन में प्री-ऑर्डर के लिए भी लाया जा चुका है, साथ ही बता देते है कि फोन की सेल 11 नवम्बर को शुरू हो जाने वाली है। अभी की चर्चा करें तो इस बारे में कोई भी जानकारी मौजूद नहीं है कि आखिर इस मोबाइल फोन को भारत के बाजार में सेल के लिए कब लाया जाने वाला है, या इसकी सेल कब होने वाली है। Oppo K7x स्पेसिफ़िकेशन्स और फीचर्स Oppo K7x मोबाइल फोन को एंड्राइड 10 के साथ कलरOS 7. 2 पर लॉन्च किया गया है, इसके अलावा इस मोबाइल फोन में आपको एक 6. 5-इंच की FHD+ डिस्प्ले मिल रही है। इसके अलावा स्क्रीन पर आपको कोर्निंग गोरिला ग्लास 3 का प्रोटेक्शन भी मिल रहा है। इस मोबाइल फोन में यानी Oppo K7x में आपको ओक्टा-कोर मीडियाटेक Dimensity 720 प्रोसेसर मिल रहा है, इसके अलावा फोन में आपको एक 6GB की LPDDR4x रैम मिल रही है। अगर हम फोटोग्राफी आदि की बात करते हैं तो इस मोबाइल फोन में यानी Oppo K7x में आपको एक क्वाड-कैमरा सेटअप मिल रहा है, इसके अलावा फोन में आपको एक 48MP का प्राइमरी सेंसर मिल रहा है, इसके अलावा फोन में आपको एक 8MP का अल्ट्रा-वाइड-एंगल कैमरा मिल रहा है, इसके अलावा फोन में आपको एक 2MP का ब्लैक और वाइट सेंसर मिल रहा है, इसके अलावा फोन में आपको एक 2MP का मैक्रो लेंस भी मिल रहा है। इसके अलावा फोन में आपको एक 16MP का सेल्फी कैमरा भी मिल रहा है, इसे आप होल-पंच कटआउट पर देख सकते हैं। मोबाइल फोन में आपको 128GB की नॉन-एक्सपेंडेबल स्टोरेज मिल रही है, इसके अलावा फोन में आपको एक 5000mAh क्षमता की 30W की फ़ास्ट चार्जिंग मिल रही है। हालाँकि इतना ही नहीं इस मोबाइल फोन में आपको ड्यूल बेंड वा\n",
            "Token IDs:  [101, 6728, 6873, 1047, 2581, 2595, 1315, 29879, 1019, 2290, 1338, 29864, 29879, 29869, 29856, 100, 1315, 29871, 29876, 29857, 1011, 1333, 29877, 29868, 29869, 1315, 29867, 29869, 29876, 1315, 1338, 29876, 29860, 1315, 29877, 29868, 29876, 1317, 29868, 29876, 100, 1010, 1332, 1339, 1315, 29878, 29867, 29859, 6728, 6873, 1047, 2581, 2595, 1315, 29879, 1315, 29864, 29863, 29878, 1315, 29878, 100, 1338, 100, 1315, 1327, 29850, 1019, 2290, 100, 1332, 29876, 100, 1330, 29878, 1315, 29875, 1338, 29851, 29859, 1339, 1315, 29877, 1334, 29856, 29874, 29856, 6728, 6873, 1019, 2290, 100, 1315, 100, 1328, 29869, 1318, 29878, 29863, 1315, 1329, 29876, 29855, 29876, 29869, 29879, 1331, 100, 1315, 29869, 1325, 29877, 29868, 29876, 1317, 29868, 29876, 1339, 1344, 100, 100, 100, 1315, 1329, 29876, 29869, 1331, 100, 1331, 29875, 29878, 29863, 100, 1319, 29876, 29863, 29851, 29876, 29869, 29878, 1338, 29876, 29867, 29863, 100, 1324, 29878, 1334, 29851, 29877, 29863, 1311, 29865, 100, 1312, 29862, 29877, 29851, 29876, 29869, 29877, 29851, 100, 1328, 29869, 100, 1315, 29869, 1325, 29877, 29868, 29876, 1317, 29868, 29876, 1339, 1344, 6728, 6873, 1047, 2581, 2595, 1331, 1312, 29864, 29851, 29879, 100, 1316, 29876, 29874, 100, 1330, 29878, 1331, 29877, 29870, 1333, 29875, 1339, 1010, 100, 100, 1331, 1314, 29851, 1315, 29871, 29876, 29857, 1011, 1315, 29867, 29869, 29876, 1338, 29856, 29847, 29864, 100, 100, 1011, 1315, 29879, 29869, 1328, 29869, 29879, 29874, 29874, 29869, 1330, 29878, 1331, 29877, 29870, 1333, 29875, 29876, 1339, 1344, 100, 1311, 29870, 29876, 29871, 29876, 100, 100, 100, 1325, 29879, 1311, 29870, 29853, 1311, 29870, 29853, 1333, 29853, 29879, 1315, 1311, 29870, 29876, 29871, 29876, 1338, 29877, 29853, 29870, 1333, 29867, 100, 1338, 29856, 29879, 29869, 29855, 100, 1331, 100, 1315, 29877, 29868, 29876, 1317, 29868, 29876, 1339, 1344, 6728, 6873, 1047, 2581, 2595, 1315, 29878, 1315, 102]\n"
          ],
          "name": "stdout"
        },
        {
          "output_type": "stream",
          "text": [
            "/usr/local/lib/python3.7/dist-packages/transformers/tokenization_utils_base.py:2155: FutureWarning: The `pad_to_max_length` argument is deprecated and will be removed in a future version, use `padding=True` or `padding='longest'` to pad to the longest sequence in the batch, or use `padding='max_length'` to pad to a max length. In this case, you can give a specific length with `max_length` (e.g. `max_length=45`) or leave max_length to None to pad to the maximal input size of the model (e.g. 512 for Bert).\n",
            "  FutureWarning,\n"
          ],
          "name": "stderr"
        }
      ]
    },
    {
      "cell_type": "code",
      "metadata": {
        "colab": {
          "base_uri": "https://localhost:8080/"
        },
        "id": "oGROYPj4Z4lA",
        "outputId": "8455e097-5668-43c9-a221-38331c8c0b5b"
      },
      "source": [
        "train_inputs, train_masks = preprocessing_for_bert(X_train)\r\n",
        "val_inputs, val_masks = preprocessing_for_bert(X_val)"
      ],
      "execution_count": 61,
      "outputs": [
        {
          "output_type": "stream",
          "text": [
            "/usr/local/lib/python3.7/dist-packages/transformers/tokenization_utils_base.py:2155: FutureWarning: The `pad_to_max_length` argument is deprecated and will be removed in a future version, use `padding=True` or `padding='longest'` to pad to the longest sequence in the batch, or use `padding='max_length'` to pad to a max length. In this case, you can give a specific length with `max_length` (e.g. `max_length=45`) or leave max_length to None to pad to the maximal input size of the model (e.g. 512 for Bert).\n",
            "  FutureWarning,\n"
          ],
          "name": "stderr"
        }
      ]
    },
    {
      "cell_type": "code",
      "metadata": {
        "colab": {
          "base_uri": "https://localhost:8080/"
        },
        "id": "c3IxD7lqU8w6",
        "outputId": "bb561a43-161e-4b18-e9f2-526942463969"
      },
      "source": [
        "train_inputs.shape"
      ],
      "execution_count": 62,
      "outputs": [
        {
          "output_type": "execute_result",
          "data": {
            "text/plain": [
              "torch.Size([6190, 300])"
            ]
          },
          "metadata": {
            "tags": []
          },
          "execution_count": 62
        }
      ]
    },
    {
      "cell_type": "code",
      "metadata": {
        "id": "1dF2zKrzaQJN"
      },
      "source": [
        "from torch.utils.data import TensorDataset, DataLoader, RandomSampler, SequentialSampler\r\n",
        "train_labels = torch.tensor(y_train)\r\n",
        "val_labels = torch.tensor(y_val)\r\n",
        "\r\n",
        "batch_size = 16\r\n",
        "\r\n",
        "# Create the DataLoader for our training set\r\n",
        "train_data = TensorDataset(train_inputs, train_masks, train_labels)\r\n",
        "train_sampler = RandomSampler(train_data)\r\n",
        "train_dataloader = DataLoader(train_data, sampler=train_sampler, batch_size=batch_size)\r\n",
        "\r\n",
        "# Create the DataLoader for our validation set\r\n",
        "val_data = TensorDataset(val_inputs, val_masks, val_labels)\r\n",
        "val_sampler = SequentialSampler(val_data)\r\n",
        "val_dataloader = DataLoader(val_data, sampler=val_sampler, batch_size=batch_size)"
      ],
      "execution_count": 63,
      "outputs": []
    },
    {
      "cell_type": "code",
      "metadata": {
        "colab": {
          "base_uri": "https://localhost:8080/"
        },
        "id": "wHyIJo6Zau-j",
        "outputId": "7b97b0bc-7814-4eaf-af87-2747d4657a37"
      },
      "source": [
        "%time\r\n",
        "import torch\r\n",
        "import torch.nn as nn\r\n",
        "from transformers import BertModel\r\n",
        "\r\n",
        "# Create the BertClassfier class\r\n",
        "class BertClassifier(nn.Module):\r\n",
        "    def __init__(self, freeze_bert=False):\r\n",
        "        super(BertClassifier, self).__init__()\r\n",
        "        # Specify hidden size of BERT, hidden size of our classifier, and number of labels\r\n",
        "        D_in, H, D_out = 768, 50, 2\r\n",
        "\r\n",
        "        # Instantiate BERT model\r\n",
        "        self.bert = BertModel.from_pretrained('bert-base-uncased')\r\n",
        "\r\n",
        "        # Instantiate an one-layer feed-forward classifier\r\n",
        "        self.classifier = nn.Sequential(\r\n",
        "            nn.Linear(D_in, H),\r\n",
        "            nn.ReLU(),\r\n",
        "            #nn.Dropout(0.5),\r\n",
        "            nn.Linear(H, D_out)\r\n",
        "        )\r\n",
        "\r\n",
        "        # Freeze the BERT model\r\n",
        "        if freeze_bert:\r\n",
        "            for param in self.bert.parameters():\r\n",
        "                param.requires_grad = False\r\n",
        "        \r\n",
        "    def forward(self, input_ids, attention_mask):\r\n",
        "        # Feed input to BERT\r\n",
        "        outputs = self.bert(input_ids=input_ids,\r\n",
        "                            attention_mask=attention_mask)\r\n",
        "        \r\n",
        "        # Extract the last hidden state of the token `[CLS]` for classification task\r\n",
        "        last_hidden_state_cls = outputs[0][:, 0, :]\r\n",
        "\r\n",
        "        # Feed input to classifier to compute logits\r\n",
        "        logits = self.classifier(last_hidden_state_cls)\r\n",
        "\r\n",
        "        return logits"
      ],
      "execution_count": 64,
      "outputs": [
        {
          "output_type": "stream",
          "text": [
            "CPU times: user 18 µs, sys: 0 ns, total: 18 µs\n",
            "Wall time: 24.1 µs\n"
          ],
          "name": "stdout"
        }
      ]
    },
    {
      "cell_type": "code",
      "metadata": {
        "id": "ezOdylqTbG0b"
      },
      "source": [
        "from transformers import AdamW, get_linear_schedule_with_warmup\r\n",
        "\r\n",
        "def initialize_model(epochs=4):\r\n",
        "    \"\"\"Initialize the Bert Classifier, the optimizer and the learning rate scheduler.\r\n",
        "    \"\"\"\r\n",
        "    # Instantiate Bert Classifier\r\n",
        "    bert_classifier = BertClassifier(freeze_bert=False)\r\n",
        "\r\n",
        "    # Tell PyTorch to run the model on GPU\r\n",
        "    bert_classifier.to(device)\r\n",
        "\r\n",
        "    # Create the optimizer\r\n",
        "    optimizer = AdamW(bert_classifier.parameters(),\r\n",
        "                      lr=5e-5,    # Default learning rate\r\n",
        "                      eps=1e-8    # Default epsilon value\r\n",
        "                      )\r\n",
        "\r\n",
        "    # Total number of training steps\r\n",
        "    total_steps = len(train_dataloader) * epochs\r\n",
        "\r\n",
        "    # Set up the learning rate scheduler\r\n",
        "    scheduler = get_linear_schedule_with_warmup(optimizer,\r\n",
        "                                                num_warmup_steps=0, # Default value\r\n",
        "                                                num_training_steps=total_steps)\r\n",
        "    return bert_classifier, optimizer, scheduler"
      ],
      "execution_count": 65,
      "outputs": []
    },
    {
      "cell_type": "code",
      "metadata": {
        "id": "C66HfUiwbMXo"
      },
      "source": [
        "import random\r\n",
        "import time\r\n",
        "\r\n",
        "# Specify loss function\r\n",
        "loss_fn = nn.CrossEntropyLoss()\r\n",
        "\r\n",
        "def set_seed(seed_value=42):\r\n",
        "    \"\"\"Set seed for reproducibility.\r\n",
        "    \"\"\"\r\n",
        "    random.seed(seed_value)\r\n",
        "    np.random.seed(seed_value)\r\n",
        "    torch.manual_seed(seed_value)\r\n",
        "    torch.cuda.manual_seed_all(seed_value)\r\n",
        "\r\n",
        "def train(model, train_dataloader, val_dataloader=None, epochs=4, evaluation=False):\r\n",
        "    \"\"\"Train the BertClassifier model.\r\n",
        "    \"\"\"\r\n",
        "    # Start training loop\r\n",
        "    print(\"Start training...\\n\")\r\n",
        "    for epoch_i in range(epochs):\r\n",
        "        # =======================================\r\n",
        "        #               Training\r\n",
        "        # =======================================\r\n",
        "        # Print the header of the result table\r\n",
        "        print(f\"{'Epoch':^7} | {'Batch':^7} | {'Train Loss':^12} | {'Val Loss':^10} | {'Val Acc':^9} | {'Elapsed':^9}\")\r\n",
        "        print(\"-\"*70)\r\n",
        "\r\n",
        "        # Measure the elapsed time of each epoch\r\n",
        "        t0_epoch, t0_batch = time.time(), time.time()\r\n",
        "\r\n",
        "        # Reset tracking variables at the beginning of each epoch\r\n",
        "        total_loss, batch_loss, batch_counts = 0, 0, 0\r\n",
        "\r\n",
        "        # Put the model into the training mode\r\n",
        "        model.train()\r\n",
        "\r\n",
        "        # For each batch of training data...\r\n",
        "        for step, batch in enumerate(train_dataloader):\r\n",
        "            batch_counts +=1\r\n",
        "            # Load batch to GPU\r\n",
        "            b_input_ids, b_attn_mask, b_labels = tuple(t.to(device) for t in batch)\r\n",
        "\r\n",
        "            # Zero out any previously calculated gradients\r\n",
        "            model.zero_grad()\r\n",
        "\r\n",
        "            # Perform a forward pass. This will return logits.\r\n",
        "            logits = model(b_input_ids, b_attn_mask)\r\n",
        "\r\n",
        "            # Compute loss and accumulate the loss values\r\n",
        "            loss = loss_fn(logits, b_labels)\r\n",
        "            batch_loss += loss.item()\r\n",
        "            total_loss += loss.item()\r\n",
        "\r\n",
        "            # Perform a backward pass to calculate gradients\r\n",
        "            loss.backward()\r\n",
        "\r\n",
        "            # Clip the norm of the gradients to 1.0 to prevent \"exploding gradients\"\r\n",
        "            torch.nn.utils.clip_grad_norm_(model.parameters(), 1.0)\r\n",
        "\r\n",
        "            # Update parameters and the learning rate\r\n",
        "            optimizer.step()\r\n",
        "            scheduler.step()\r\n",
        "\r\n",
        "            # Print the loss values and time elapsed for every 20 batches\r\n",
        "            if (step % 20 == 0 and step != 0) or (step == len(train_dataloader) - 1):\r\n",
        "                # Calculate time elapsed for 20 batches\r\n",
        "                time_elapsed = time.time() - t0_batch\r\n",
        "\r\n",
        "                # Print training results\r\n",
        "                print(f\"{epoch_i + 1:^7} | {step:^7} | {batch_loss / batch_counts:^12.6f} | {'-':^10} | {'-':^9} | {time_elapsed:^9.2f}\")\r\n",
        "\r\n",
        "                # Reset batch tracking variables\r\n",
        "                batch_loss, batch_counts = 0, 0\r\n",
        "                t0_batch = time.time()\r\n",
        "\r\n",
        "        # Calculate the average loss over the entire training data\r\n",
        "        avg_train_loss = total_loss / len(train_dataloader)\r\n",
        "\r\n",
        "        print(\"-\"*70)\r\n",
        "        # =======================================\r\n",
        "        #               Evaluation\r\n",
        "        # =======================================\r\n",
        "        if evaluation == True:\r\n",
        "            # After the completion of each training epoch, measure the model's performance\r\n",
        "            # on our validation set.\r\n",
        "            val_loss, val_accuracy = evaluate(model, val_dataloader)\r\n",
        "\r\n",
        "            # Print performance over the entire training data\r\n",
        "            time_elapsed = time.time() - t0_epoch\r\n",
        "            \r\n",
        "            print(f\"{epoch_i + 1:^7} | {'-':^7} | {avg_train_loss:^12.6f} | {val_loss:^10.6f} | {val_accuracy:^9.2f} | {time_elapsed:^9.2f}\")\r\n",
        "            print(\"-\"*70)\r\n",
        "        print(\"\\n\")\r\n",
        "    \r\n",
        "    print(\"Training complete!\")\r\n",
        "\r\n",
        "\r\n",
        "def evaluate(model, val_dataloader):\r\n",
        "    \"\"\"After the completion of each training epoch, measure the model's performance\r\n",
        "    on our validation set.\r\n",
        "    \"\"\"\r\n",
        "    # Put the model into the evaluation mode. The dropout layers are disabled during\r\n",
        "    # the test time.\r\n",
        "    model.eval()\r\n",
        "\r\n",
        "    # Tracking variables\r\n",
        "    val_accuracy = []\r\n",
        "    val_loss = []\r\n",
        "\r\n",
        "    # For each batch in our validation set...\r\n",
        "    for batch in val_dataloader:\r\n",
        "        # Load batch to GPU\r\n",
        "        b_input_ids, b_attn_mask, b_labels = tuple(t.to(device) for t in batch)\r\n",
        "\r\n",
        "        # Compute logits\r\n",
        "        with torch.no_grad():\r\n",
        "            logits = model(b_input_ids, b_attn_mask)\r\n",
        "\r\n",
        "        # Compute loss\r\n",
        "        loss = loss_fn(logits, b_labels)\r\n",
        "        val_loss.append(loss.item())\r\n",
        "\r\n",
        "        # Get the predictions\r\n",
        "        preds = torch.argmax(logits, dim=1).flatten()\r\n",
        "\r\n",
        "        # Calculate the accuracy rate\r\n",
        "        accuracy = (preds == b_labels).cpu().numpy().mean() * 100\r\n",
        "        val_accuracy.append(accuracy)\r\n",
        "\r\n",
        "    # Compute the average accuracy and loss over the validation set.\r\n",
        "    val_loss = np.mean(val_loss)\r\n",
        "    val_accuracy = np.mean(val_accuracy)\r\n",
        "\r\n",
        "    return val_loss, val_accuracy"
      ],
      "execution_count": 66,
      "outputs": []
    },
    {
      "cell_type": "code",
      "metadata": {
        "colab": {
          "base_uri": "https://localhost:8080/"
        },
        "id": "A4gJSkARbYmg",
        "outputId": "12ba29b8-9552-48e2-831c-cb581f685c31"
      },
      "source": [
        "set_seed(42)    # Set seed for reproducibility\r\n",
        "bert_classifier, optimizer, scheduler = initialize_model(epochs=1)\r\n",
        "train(bert_classifier, train_dataloader, val_dataloader, epochs=1, evaluation=True)"
      ],
      "execution_count": 67,
      "outputs": [
        {
          "output_type": "stream",
          "text": [
            "Start training...\n",
            "\n",
            " Epoch  |  Batch  |  Train Loss  |  Val Loss  |  Val Acc  |  Elapsed \n",
            "----------------------------------------------------------------------\n",
            "   1    |   20    |   0.448822   |     -      |     -     |   34.15  \n",
            "   1    |   40    |   0.272278   |     -      |     -     |   32.41  \n",
            "   1    |   60    |   0.264608   |     -      |     -     |   32.38  \n",
            "   1    |   80    |   0.149896   |     -      |     -     |   32.33  \n",
            "   1    |   100   |   0.207646   |     -      |     -     |   32.37  \n",
            "   1    |   120   |   0.112908   |     -      |     -     |   32.30  \n",
            "   1    |   140   |   0.160396   |     -      |     -     |   32.23  \n",
            "   1    |   160   |   0.116931   |     -      |     -     |   32.34  \n",
            "   1    |   180   |   0.157564   |     -      |     -     |   32.31  \n",
            "   1    |   200   |   0.158896   |     -      |     -     |   32.32  \n",
            "   1    |   220   |   0.127804   |     -      |     -     |   32.28  \n",
            "   1    |   240   |   0.102292   |     -      |     -     |   32.28  \n",
            "   1    |   260   |   0.113629   |     -      |     -     |   32.26  \n",
            "   1    |   280   |   0.146261   |     -      |     -     |   32.29  \n",
            "   1    |   300   |   0.148384   |     -      |     -     |   32.29  \n",
            "   1    |   320   |   0.074674   |     -      |     -     |   32.28  \n",
            "   1    |   340   |   0.069754   |     -      |     -     |   32.24  \n",
            "   1    |   360   |   0.065984   |     -      |     -     |   32.18  \n",
            "   1    |   380   |   0.075933   |     -      |     -     |   32.26  \n",
            "   1    |   386   |   0.070236   |     -      |     -     |   9.47   \n",
            "----------------------------------------------------------------------\n",
            "   1    |    -    |   0.155978   |  0.091988  |   97.36   |  662.72  \n",
            "----------------------------------------------------------------------\n",
            "\n",
            "\n",
            "Training complete!\n"
          ],
          "name": "stdout"
        }
      ]
    },
    {
      "cell_type": "code",
      "metadata": {
        "id": "EgRii7CVbc4O"
      },
      "source": [
        "import torch.nn.functional as F\r\n",
        "\r\n",
        "def bert_predict(model, test_dataloader):\r\n",
        "    model.eval()\r\n",
        "\r\n",
        "    all_logits = []\r\n",
        "    for batch in test_dataloader:\r\n",
        "        # Load batch to GPU\r\n",
        "        b_input_ids, b_attn_mask = tuple(t.to(device) for t in batch)[:2]\r\n",
        "\r\n",
        "        # Compute logits\r\n",
        "        with torch.no_grad():\r\n",
        "            logits = model(b_input_ids, b_attn_mask)\r\n",
        "        all_logits.append(logits)\r\n",
        "    \r\n",
        "    # Concatenate logits from each batch\r\n",
        "    all_logits = torch.cat(all_logits, dim=0)\r\n",
        "\r\n",
        "    # Apply softmax to calculate probabilities\r\n",
        "    probs = F.softmax(all_logits, dim=1).cpu().numpy()\r\n",
        "\r\n",
        "    return probs"
      ],
      "execution_count": 68,
      "outputs": []
    },
    {
      "cell_type": "code",
      "metadata": {
        "id": "lJuifmc5jUIG"
      },
      "source": [
        "from sklearn.metrics import accuracy_score, roc_curve, auc\r\n",
        "def evaluate_roc(probs, y_true):\r\n",
        "    preds = probs[:, 1]\r\n",
        "    fpr, tpr, threshold = roc_curve(y_true, preds)\r\n",
        "    roc_auc = auc(fpr, tpr)\r\n",
        "    print(f'AUC: {roc_auc:.4f}')\r\n",
        "       \r\n",
        "    # Get accuracy over the test set\r\n",
        "    y_pred = np.where(preds >= 0.5, 1, 0)\r\n",
        "    accuracy = accuracy_score(y_true, y_pred)\r\n",
        "    print(f'Accuracy: {accuracy*100:.2f}%')\r\n",
        "    \r\n",
        "    # Plot ROC AUC\r\n",
        "    plt.title('Receiver Operating Characteristic')\r\n",
        "    plt.plot(fpr, tpr, 'b', label = 'AUC = %0.2f' % roc_auc)\r\n",
        "    plt.legend(loc = 'lower right')\r\n",
        "    plt.plot([0, 1], [0, 1],'r--')\r\n",
        "    plt.xlim([0, 1])\r\n",
        "    plt.ylim([0, 1])\r\n",
        "    plt.ylabel('True Positive Rate')\r\n",
        "    plt.xlabel('False Positive Rate')\r\n",
        "    plt.show()"
      ],
      "execution_count": 69,
      "outputs": []
    },
    {
      "cell_type": "code",
      "metadata": {
        "id": "zxABXQLMca18"
      },
      "source": [
        "probs = bert_predict(bert_classifier, val_dataloader)"
      ],
      "execution_count": 70,
      "outputs": []
    },
    {
      "cell_type": "code",
      "metadata": {
        "colab": {
          "base_uri": "https://localhost:8080/",
          "height": 329
        },
        "id": "QqpoJ_r4jY7S",
        "outputId": "330fd04b-8fee-4b6f-8b64-37b50aee4def"
      },
      "source": [
        "evaluate_roc(probs, y_val)"
      ],
      "execution_count": 71,
      "outputs": [
        {
          "output_type": "stream",
          "text": [
            "AUC: 0.9938\n",
            "Accuracy: 97.33%\n"
          ],
          "name": "stdout"
        },
        {
          "output_type": "display_data",
          "data": {
            "image/png": "[encoded data removed]",
            "text/plain": [
              "<Figure size 432x288 with 1 Axes>"
            ]
          },
          "metadata": {
            "tags": [],
            "needs_background": "light"
          }
        }
      ]
    },
    {
      "cell_type": "code",
      "metadata": {
        "id": "R5koqyzY49C6",
        "colab": {
          "base_uri": "https://localhost:8080/"
        },
        "outputId": "f04a2b72-da6c-4bf1-c472-fd3af54c72d2"
      },
      "source": [
        "from sklearn.metrics import classification_report,confusion_matrix\r\n",
        "preds = probs[:, 1]\r\n",
        "y_pred = np.where(preds >= 0.5, 1, 0)\r\n",
        "print(classification_report(y_val, y_pred))"
      ],
      "execution_count": 73,
      "outputs": [
        {
          "output_type": "stream",
          "text": [
            "              precision    recall  f1-score   support\n",
            "\n",
            "           0       0.98      0.98      0.98       761\n",
            "           1       0.94      0.95      0.95       249\n",
            "\n",
            "    accuracy                           0.97      1010\n",
            "   macro avg       0.96      0.96      0.96      1010\n",
            "weighted avg       0.97      0.97      0.97      1010\n",
            "\n"
          ],
          "name": "stdout"
        }
      ]
    },
    {
      "cell_type": "code",
      "metadata": {
        "colab": {
          "base_uri": "https://localhost:8080/"
        },
        "id": "KFRWqrXDfriw",
        "outputId": "fa48a56b-0356-430d-eddf-f6ac2de192be"
      },
      "source": [
        "print(confusion_matrix(y_val,y_pred))"
      ],
      "execution_count": 74,
      "outputs": [
        {
          "output_type": "stream",
          "text": [
            "[[747  14]\n",
            " [ 13 236]]\n"
          ],
          "name": "stdout"
        }
      ]
    },
    {
      "cell_type": "code",
      "metadata": {
        "id": "rc9IfmcPfE0k"
      },
      "source": [
        "vnewData.loc[:,'predicted_value'] = y_pred"
      ],
      "execution_count": 76,
      "outputs": []
    },
    {
      "cell_type": "code",
      "metadata": {
        "id": "7b3AxnQMgZ5d"
      },
      "source": [
        "wrongPred = vnewData[vnewData['Mobile_Tech_Flag'] != vnewData['predicted_value']]"
      ],
      "execution_count": 78,
      "outputs": []
    },
    {
      "cell_type": "code",
      "metadata": {
        "colab": {
          "base_uri": "https://localhost:8080/"
        },
        "id": "pejjHm93gkAM",
        "outputId": "26602ecd-ca3b-432c-bbd5-2f6e521ba837"
      },
      "source": [
        "for i in range(len(wrongPred)):\r\n",
        "  print(f'Text number {i} :',wrongPred.iloc[i,1])"
      ],
      "execution_count": 91,
      "outputs": [
        {
          "output_type": "stream",
          "text": [
            "Text number 0 : आपको यदि नकदी की विशेष जरूरत है और आप बैंक या एटीएम तक जाने में असमर्थ है तो घर पर बैंक को आमंत्रित कर सकते हैं.  इसके अलावा नकदी जमा करने, चेक देने, ड्राफ्ट की डिलीवरी, टर्म डिपॉजिट एडवाइज की डिलीवरी, लाइफ सर्टिफिकेट और केवाईसी डॉक्यूमेंट समेत अन्य सुविधाएं भी आपको घर बैठे मिल सकता है.  इसके लिए आपको टोल फ्री नंबर 1800111103 पर कॉल करना होगा.  यह एक रिक्वेस्ट प्रोसेस है जिसके बाद बैंक आपके द्वार पर कार्यकारी दिन सुबह 9:00 बजे से शाम 4:00 बजे तक आ सकता है.  हालांकि, इन सुविधाओं का आपको लाभ उठाना है तो आपको रजिस्ट्रेशन सीधे तौर पर होम ब्रांच पर करवाना होगा.  यह डोर स्टेप बैंकिंग सुविधा केवल और केवल उन्हीं ग्राहकों के लिए है जिनकी केवाईसी कंप्लीट है अर्थात जिन्होंने अपना केवाईसी डॉक्यूमेंट बैंक को सबमिट कर दिया है.  आपको बता दें कि आप यदि होम ब्रांच से 5 किलोमीटर के दायरे में आते हैं तो ही आप इस सुविधा के हकदार है.  इसके लिए आपको अपने रजिस्टर नंबर से कॉल करके रिक्वेस्ट भेजना होगा.  हालांकि, ज्वाइंट अकाउंट वाले ग्राहक इन सुविधाओं का लाभ बिल्कुल नहीं मिल पाएगा.  इसके अलावा गै\n",
            "Text number 1 : Pune (Maharashtra) [ India], February 1 (ANI/NewsVoir): Buying the latest smartphone with cutting-edge technology can be a tough task, especially when one must consider the budget, different features, configurations etc.  However, one can shop online from the EMI Store of Bajaj Finserv and get their hands on premium smartphones without worrying about the costs.  Avail exclusive benefits like No Cost EMI, zero down payment, same-day delivery and much more.  The EMI Store hosts a variety of smartphones from different brands like OPPO, Xiaomi, Samsung, Redmi, Nokia, realme, Apple and Vivo.  That's not all, customers can enjoy a cashless and hassle-free shopping experience on the EMI Store of Bajaj Finserv.  With over 1 million products to choose from, customers can shop for just about anything ranging from smartphones, tablets, televisions, and home appliances like washing machines, air-conditioners, refrigerators & fitness equipment.  Customers can choose a brand of their choice from a dealer located closest to them from Bajaj Finserv's 43,000-strong EMI Network.  By doing so, they are assured quick delivery of their product.  The EMI Store currently hosts a number of newly launched mobile phones like the Oppo Reno5 Pro on No Cost EMI starting Rs.  1,714, and the all-new Samsung Galaxy S21 range of phones namely the Galaxy S21, Galaxy S21+, and Galaxy S21 Ultra which offer an unparallel premium smartphone experience.  Customers can also find some of the best-selling smartphones like the Oppo F17 - which is available on EMIs starting Rs.  1,133/- and the Vivo Y20 on EMI starting Rs.  1,299.  In addition, customers can also shop online for the following smartphones available at attractive EMIs on the EMI store of Bajaj Finserv.  Smartphone - No Cost EMI starting at Vivo Y20 - Rs 1,299 Oppo F17 - Rs 1,133 Vivo V20 - Rs 1,388 Redmi Note 9 Pro Max - Rs1,417 Samsung Galaxy A21s - Rs 1,000 Oppo A53 - Rs 1,249 Listed below are reasons why one should shop on the EMI Store: 1.  Same-day delivery By shopping on the EMI Store, customers can avail products from their favourite dealer and enjoy doorstep delivery on the same day.  2.  Zero down payment One can choose the zero down payment option on select products and take home the latest smartphone or electronics without paying anything while purchasing the product from the EMI Store.  3.  No Cost EMI with flexible repayment tenure Customers can purchase the latest smartphone on No Cost EMIs while shopping on the EMI Store.  Apart from that, they can select their repayment tenure according to their convenience ranging up to 24 months.  4.  Cash-free shopping experience Customers can shop online for the latest smartphone from the comfort of their homes by using the Bajaj Finserv EMI Network Card.  This digital card comes with a pre-approved loan amount up to Rs.  4 lakhs which can be used while shopping for smartphones and electronics like laptops, LED TVs, etc.  Existing customers of the Bajaj Finserv EMI Network can also benefit from pre-approved offers.  Shoppers can not only place their order and pay for it online, but they can also enjoy delivery at their doorstep the very same day, often in around four hours.  Finserv MARKETS has been launched by Bajaj Finserv Direct Limited, a subsidiary of Bajaj Finserv.  It is a one-stop digital marketplace that helps consumers compare and choose from a wide range of financial products.  It has partnered with leading financial providers in the Lending, Insurance, Investments and Payments space to provide 500+ financial and lifestyle products, all in one place.  Its core proposition, Offers You Value, is driven by a strong intent to deliver tailor-made financial offers to its consumers.  So, from selecting from multiple loans offers to getting the loan amount credited into their bank account on the same day, from receiving a credit card instantly to purchasing an insurance policy, from investing in the best mutual funds to purchasing the latest gadgets on Zero Interest EMI, consumers can now get all their personal and financial life goals delivered at Finserv MARKETS.  This story is provided by NewsVoir.  ANI will not be responsible\n",
            "Text number 2 : 15 फरवरी, 2021|7:13|IST\n",
            "Text number 3 : Japanese entertainment company Akatsuki Inc has ambitious plans for the Indian market.  The company is scouting for an India joint venture (JV) partner besides looking to set up a local office with a full-fledged team.  Akatsuki Head of Global IP Expansion Yuki Kawamura said that the company is actively looking for a local partner for its animation vertical.  He also revealed that the company wanted to set up a dedicated team and office in India but that is on hold for now due to the Covid-19 situation.  \"In the future, we are looking to set up a local office in India.  We are eyeing partners for Akatsuki Inc animation vertical.  We may establish a joint venture with a local partner,\" Kawamura said.  The company has already introduced its maiden offering targeted at preschoolers called Kumarba.  The edutainment channel is designed to engage kids in the age-group of 2-5 years old through a series of upbeat nursery rhymes and educational songs with colorful animation.  Akatsuki aims to make animation more interactive with the power of storytelling to convey meaningful messages to the Indian kids.  The channel features two main characters, a young bear boy named Kumarba and his squirrel-tablet friend, Tabris.  With Kumarba, the company aims to gather consumer insights by developing 3-5 animation properties across different themes, each with 10-13 episodes on OTT platforms and YouTube.  \"We will also focus on the establishment of the animation localisation process through production of subtitles and dubbing for each language,\" he stated.  Kawamura said that Covid-19 derailed the company's original content plans.  \"We had aggressive plans to create original content for India in collaboration with local artists and production houses in 2021.  However, with the current pandemic, they have been pushed as traveling to India remains unsafe for all parties.  For now, we are only focusing on dubbing and subbing the Japanese content but we will be bringing original content dedicated to India in the near future. \" The company will bring dubbed and subbed content in Indian languages like Hindi, Tamil, Telugu, Gujarati, and Punjabi.  Going forward, it will add more Indian languages.  It is also in talks with local studios for dubbing content in Indian languages.  \"Right now, we are not working with any local players but in the future, we’ll be partnering with local localisation studios for dubbing in different languages and dialects; the discussions are in progress,\" Kawamura stated.  For 2021, Akatsuki's primary focus is to build a community following for the content IPs that it plans to introduce in India and build on them further basis the consumer insights and adoption.  It will monetise these properties through merchandising offerings.  Akatsuki has entered India since it has the largest kids population in the world and there is a huge gap in the supply of quality content targeted at kids.  \"This gap has become even wider with wider access to the internet and smartphones across Tier III & IV India and in the light of the current pandemic.  The need for kids' content in vernacular languages as their social distance is more significant than ever,\" Kawamura pointed out.  He also mentioned that Akatsuki Entertainment Technology (AET) Fund, a venture capital fund established by Akatsuki Inc, has relationships in India through its investments in gaming, entertainment, and ed-tech startups.  \"With Akatsuki Inc coming in, we are expanding our commitment to India and solving for the untapped market for original kids’ animation content.  We are looking to begin by bringing Japan’s fascinating characters and stories to Indian kids in a language they can relate to,\" he asserted.  Kawamura feels that there is very limited content in India targeting the lower primary school grades and below while the demand for such content is on the rise.  He is also gung-ho about the fact that there’s already a proven appetite and affinity for Japanese characters in India as reflected in the popularity of animated shows like Doraemon, Ninja-Hattori, and Shinchan.  \"Japanese animation has historically been ahead of the curve when it comes to setting consumer consumption trends.  With Kumarba, it’s the beginning of us bringing that wealth of animation innovation to India, customising it to make it relatable for local audiences.  There are some great players in India already in the animation space, but as I mentioned earlier, there is still a huge dearth of kids-focused content relative to very high demand,\" he stated.  Read more news about (internet advertising India, internet advertising, advertisin\n",
            "Text number 4 : 7 Best WhatsApp Alternatives Better Than WP August 22, 2019 by Virendar Singh Whatsapp तो आप ज़रूर इस्तमाल करते होगे, ओर अगर आप वहत्सप्प जेसे दूसरे ऐप्लिकेशन के वारे में जंना चाटे है तो आप सही साइट पर आए है , में आपको वहत्सप्प की तरह यस Whatsapp से आँचें App के वारे में बताने वाला हु। वहत्सप्प के आए दिन नए Update आते रहते है, जिससे वो पहले से ओर जड़ा बेहतर होते जा रहा है फिर भी इसमें कुछ लिमिटेशंज़ है जेसे ग्रूप में जड़ा लोग ऐड नहीं हो सकते बग़ेरा बग़ेरा । अगर आपको Whatsapp के वारे में जादा जंना है तो आप यह देख सकते है । अगर आप वहत्सप्प से पैसे काम रहे है तो Whatsapp Alternative आपकी इसमें ओर जड़ा मदद कर सकते है । चलिए जानते है Best WhatsApp Alternatives के वारे में हिंदी में Table of Contents [hide] [hide] WhatsApp Alternatives की क्या ज़रूरत है? Top 7 WhatsApp Alternative Apps 1: Telegram 2: Viber Messenger 3: LINE 4: Messenger 5: Paytm 6: Hike 7: WeChat WhatsApp Alternatives की क्या ज़रूरत है? Internet पर आ रही खबरों के माध्यम से यह पता लगा है की WhatsApp को जल्द ही एक paid application बना दिया जाएगा और users को इसे इस्तेमाल करने के लिए पैसों भुगतान करना पड़ेगा। वेसे ये सिर्फ़ अफ़वा है ऐसा नहीं होने वाला की इसमें पैसे लगेंगे पर इसके आलवा भी दुनिया है जहाँ वहत्सप्प से बेहतर Application उपलब्द है । इसके साथ ही WhatsApp में advertisement को भी शुरू कर दिया जाएगा, जिसके चलते आपको समय समय पर कुछ ads परेशान कर सकते हैं। आने वाले समय में इन सभी updates से users को बहुत परेशानियाँ होने वाली हैं। इसे एक business application बनाया जा रहा है। इस application से कुछ data लीक होने की खबर भी सामने आ रही हैं। ऐसे मे यह खबरें सच हों या झूठ, आपके लिए ज़रूरी है की आप पूरी तरह इस पर निर्भर न रह कर किसी अन्य app का भी चुनाव कर लें जो future मे आप इस्तेमाल करेंगे। आज इस post के ज़रिये हम बात करेंगे कुछ ऐसे chat applications की जो WhatsApp के alternatives हैं। इसका मतलब की यह applications आपको वही सारी सुविधाएं प्रदान करेंगी जो आपको WhatsApp द्वारा दी जाती हैं। Top 7 WhatsApp Alternative Apps 1: Telegram Download Telegram Telegram एक बहुत ही प्रसिद्ध application है जिसे आप WhatsApp का competitor भी कह सकते हैं। यह application भी WhatsApp के समान ही सैकड़ों लोगों द्वारा इस्तेमाल किया जाता है। अगर इसकी rating की बात करें तो इसे Google द्वारा 5 में से 4. 5 की रेटिंग मिली है और इसके Google play store पर 100 billion से ज्यादा downloads हैं। Telegram की विशेषताएँ इसका interface user friendly है जिसके कारण कोई भी user इस application का इस्तेमाल बहुत आसानी से कर सकता है। यह बहुत ही lite and compact application है जो लगभग हर phone में चलती है। यह एकदम safe and secure application है। यानि इससे किसी भी 3rd party को कोई भी डाटा leak नहीं किया जाता है। इस application में WhatsApp के समान आपका सारा डाटा backup बन कर cloud मे रखा जा सकता है। इसके साथ ही आप photos, videos और अनेक media को भी अपने दोस्तों के साथ share कर सकते हैं। इसमें आप group तैयार कर सकते हैं जिसमें 250 तक लोगों को add किया जा सकता है। यह बहुत ही powerful application है जो आपको बड़ी size की videos और media share करने की अनुमति देता है। यह 100% free application है और हमेशा रहेगी। इसके साथ ही इसमें कोई भी advertisement नहीं है। यह एप्लिकेशन android और iOS दोनों के लिए उपलब्ध है। 2: Viber Messenger Download Viber Viber एक बहुत ही पुराना और popular messaging और calling application है। यह भी WhatsApp के समान आपको सारे features देता है। इसके साथ ही यह VoIP support करता है। VoIP का अर्थ है Voice Over Internet Protocol; इसका मतलब आप इसका इस्तेमाल Internet से call लगाने के लिए भी कर सकते हैं। अगर इसकी रेटिंग की बात करें तो गूगल द्वारा इसे 5 में से 4. 4 की रेटिंग मिली है और Google play store पर इसके 500 million से ज्यादा downloads हैं। Viber की विशेषताएँ इस application के interface को लोगों द्वारा खूब पसंद किया जाता है। यह एक professional messaging app है जिसकी मदद से आप पूरी दुनिया में कहीं भी अपनी बात को भेज सकते हैं। यह आपको worldwide free voice and video call का feature भी देता है। यह आपको night mode की सुविधा भी देता है जिसकी मदद से आप रात में भी app का इस्तेमाल कर सकते हैं। यह बिलकुल safe and secure application है जिसमें आपकी कोई भी information किसी third पार्टी को नहीं leak करी जाती है। इसमें आपको अनेक तरह के emojis, stickers और GIFs मिलते हैं जो आपकी chat को और भी ज्यादा interesting बनाते हैं। इसमें आपको एक secret chat का भी विकल्प मिलता है जिसकी मदद से आप अपनी chatting को छिपा सकते हैं। यह आपको quick reply करने का विकल्प देता है। यह application android और iOS दोनों के लिए उपलब्ध हैं। यह आपको free और premium दोनों Service देता है। 3: LINE Download Line Line application भी best messaging applications में से एक है। यह भी आपको WhatsApp के समान सारे features देता है। अगर इसकी रेटिंग की बात करें तो गूगल पे इसे 5 में से 4. 2 की रेटिंग मिली है और Google play store में इसके 500 million से ज्यादा downloads हैं। यह application android और iOS दोनों के लिए उपलब्ध है। Line की विशेषताएँ इसका interface भी बहुत बेहतरीन और user friendly है जिसके कारण कोई भी user बहुत आसानी से इसका इस्तेमाल कर सकता है। यह बहुत compact application है जो लगभग हर smartphone में चलती है। यह app line corporation द्वारा design की गयी है। इसमें आपको night mode का विकल्प भी मिलता है जिसकी मदद से आप रात को भी बहुत आसानी से इसका इस्तेमाल कर सकते हैं। इसमें आप group तैयार कर सकते हैं जिसमें 200 तक लोगों को add किया जा सकता है। यह आपको poll feature देता है जो आपकी chat को और ज्यादा मनोरंजक बनाता है और आपको छोटे छोटे survey लेने मे मदद करता है। यह आपको अनेक प्रकार के stickers, emojis और GIFs देता है जो आपकी chat को और ज्यादा मनोरंजक बनाते हैं। इसके साथ ही इसमें आप अपने खुद के stickers भी बना सकते हैं। आप अपने दोस्तों के साथ कुछ भी timeline द्वारा share कर सकते हैं। यह आपको national और international दोनों पर voice और video कॉल करने की अनुमति देता है। यह 52 से ज्यादा देशों में अभी तक की सबसे best application है। यह application आपको free और premium दोनों सुविधा देती है। 4: Messenger Download Messenger Facebook पूरे social media market में सबसे ज्यादा इस्तेमाल किए जाने वाला application है। यहाँ तक की WhatsApp को भी इसी company द्वारा खरीदा गया है। अगर आप social media का इस्तेमाल करते हैं तो आप जरूर इसके बारे में जानते होंगे। अगर इसकी रेटिंग की बात करें तो गूगल पर इसे 5 में 4. 9 की रेटिंग मिली है जो अभी तक की सबसे ज्यादा रेटिंग है और इसे लगभग पूरे दुनिया के लोग इस्तेमाल करते हैं। यह android, iOS और windows सब के लिए उपलब्ध है। Messenger की विशेषताएँ इसका interface बहुत ही simple और user-friendly है जिसका इस्तेमाल कोई भी user बहुत आसानी से कर सकता है। इसका lite version भी market में उपलब्ध है जो हर mobile में बहुत आसानी से चलता है। इसमें आपको अनेक games भी मिलते हैं जिन्हें आप अपने दोस्तों के साथ खेल सकते हैं। यह आपको अनेक तरह के creative stickers, emojis और GIFs भी प्रदान करता है जो आपकी chat को और ज्यादा अच्छा और रुचिदायक बनाते हैं। इसमें आपको night mode का विकल्प भी मिलता है जिसकी मदद से आप रात को भी बहुत आसानी से इसका इस्तेमाल कर सकते हैं। इसमें आप बिना किसी को अपना phone number share किए ही उसे message भेज सकते हैं। इसकी video और voice quality औरों के मुक़ाबले बहुत बेहतर है। आप अपने दोस्तों के साथ अपनी location को भी share कर सकते हैं। यह आपको free और paid दोनों सुविधाएं प्रदान करता है। 5: Paytm Download PayTM आप सब यह तो जानते ही होंगे की PayTM एक बहुत ही मशहूर payment application है। इसका इस्तेमाल आप payment, money transfer आदि के लिए करते हैं। यह अभी तक सबसे ज्यादा safe और secure app है जिसका अपना खुद का बैंक भी है। इसके साथ ही अब हम PayTM पर chat भी कर सकते हैं। जी हाँ PayTM के नए update के बाद आप इससे लोगों से free में chat भी कर सकते हैं। अगर इसकी रेटिंग की बात करें तो गूगल पर इसे 5 में से 4. 5 की रेटिंग मिली है और Google play store पर 10 billion से ज्यादा downloads हैं। यह application android और iOS दोनों के लिए उपलब्ध है। Paytm की विशेषताएँ इस application के interface को लोगों द्वारा काफी सराहा जाता है। कोई भी user बहुत आसानी से इसका इस्तेमाल कर सकता है। यह एक professional payment app है जिसकी मदद से आप बहुत आसानी से bill payment, money transfer आदि कर सकते हैं। इसका अपना खुद का store भी हैं जिससे आप कोई भी products बहुत कम दाम में खरीद सकते हैं। यह application भी आज के समय में सबसे ज्यादा trusted और secure है। यह application हमारे देश भारत मे ही बनी है; यानि की स्वदेशी है। इसमें आप बहुत आसानी से अपनी train, plane, bus इत्यादि की tickets भी book कर सकते हैं। इसका इस्तेमाल बड़े-बड़े businessman अपनी payment करने के लिए करते हैं। यह आपको बिलकुल free chatting सुविधा प्रदान करती है। 6: Hike Download Hike Hike एक मशहूर applications है। यह भी एक Indian app है। यह एक समय पर WhatsApp का एक बहुत बड़ा competitor हुआ करता था। इसको सेकड़ों भारतीय द्वारा पसंद किया गया है। अगर हम रेटिंग की बात करें तो गूगल पर इसे 5 में से 4. 3 की रेटिंग मिली है और इसके 1 billion से भी ज्यादा downloads हैं। Hike की विशेषताएँ यह आपको news पढ़ने की सुविधा भी देता हैं जिसमें आपको दुनिया भर की खबरें मिलती है। इसमें आपको अनेक stickers, emojis और GIFs के pack मिलते हैं जो आपकी chat को और ज्यादा मनोरंजंक बनाते हैं। इसमें 20000 से ज्यादा stickers उपलब्ध हैं। इसमें भी आप group बना सकते हैं और 1000 लोगों को add कर सकते हैं। यह आपको अलग अलग themes भी प्रदान करता है। इसके साथ ही आपको hide chat का भी विकल्प इसमें मिलता है। यह आपको cricket live score देखने की सुविधा भी देता है। इस application में कोई advertisement नहीं है। यह एप्लिकेशन android और iOS दोनों के लिए उपलब्ध है। 7: WeChat Download WeChat WeChat आज के समय में सबसे मशहूर chatting applications में से एक है। इसे आप WhatsApp के best alternatives की list में भी जोड़ सकते हैं। यह आपको हर वो सुविधा प्रदान करता है जो आपको और applications में मिलती है। इसकी मदद से आप सकड़ों लोगों के साथ connect हो सकते हैं उन्हें message कर सकते हैं उन्हें free voice and video calls कर सकते हैं। अगर इसकी rating की बात करें तो Google पर इसे 5 में से 4. 2 की rating मिली है जो काफी अच्छी है। इसके साथ ही इसके Google play store में 100 million से ज्यादा downloads हैं। WeChat की विशेषताएँ यह आपको groups बनाने की सुविधा देता है जिसमें आप 500 लोगों को add कर सकते हो। इसमें आपको group video call and voice call करने का feature भी मिलता है। यह एक professional messaging application है जिसका इस्तेमाल 9 से ज्यादा मशहूर देशों में किया जा रहा है। इसमें आपको sticker gallery मिलती है। जिसमें unlimited stickers, emojis आदि भी मिलते हैं जो आपको चैटिंग को और ज्यादा मनोरंजक बनाते हैं। इसके द्वारा आप अपने खुद के stickers और emojis भी तैयार कर सकते हैं। यह आपको games की सुविधा भी प्रदान करता है। यह games आप अपने दोस्तों के साथ खेल सकते हैं। यह आपको free और paid दोनों सुविधा प्रदान करती है। यह application android, iOS और windows तीनों के लिए उपलब्ध है। Summary अब आप मज़े कॉमेंट करके बताइए Whatsapp Alternetive में आपका कोंसा Favroite App है। जैसा की हम सब ही जानते हैं जैसे जैसे technology advance हुई है वैसे वैसे cyber threat भी काफी बढ़ गया है। आय दिन hacking और data leak होने की खबरें सामने आती रहती हैं। कभी कोई company जान कर अपना data leak कर देती है तो कई बार companies hacking का शिकार हो जाती हैं। ऐसे मे यह चुनाव आपका होता है की आप किस company पर भरोसा कर सकते हैं और किस company पर नहीं। किसी भी application को कई बार hackers द्वारा crack कर दिया जाता है और उसे third party websites पर डाल दिया जाता है। ऐसे मे यह आपकी ज़िम्मेदारी है की आप इन apps को उन third-party websites से download न करें। आपने यह कई बार सुना होगा की “अपनी सुरक्षा अपने हाथों मे होती है”। Categories Mobile, Social Network Tags App, Guest Post, mobile, WhatsApp Post navigation Google Disavow Tool Se Bad Backlinks hataye इंस्टाग्राम वीडियो और फोटोज कैसे डाउनलोड करें? 2 आसान तरीके Virendar Singh Main Virendar Singh Uttarakhand se, main kaafi time se Blogging kar raha hun aur mujhe Tech Gadgets aadi jaise products ka review karna aur uske baare sahi jankari share karna bahut achha lagta hai. Sonam Khan August 22, 2019 at 11:38 PM sir aapne whatsapp ke bahut hi important option batayae hai thanks sir. Reply Alessia Brook January 23, 2020 at 9:16 PM Wow, a very amazing blog post and the alternatives you have mentioned are too amazing! Reply Peter Parker March 18, 2020 at 9:36 AM Bahut hi badhiya article.  Very helpful Reply Rohit Kumar April 25, 2020 at 10:52 PM thank you sir really me achha laga padh kar Reply अभिनित May 28, 2020 at 10:52 PM दोस्त आपकी ये साईट कितना रेवेनुए कमा रही हैं मंथली . .  कृपा जरुर बताये आपके उत्तर की प्रतीक्षा रहेगी ! मैं भी ब्लॉग लिखना चाहता हूँ कृपा ये बता के मार्गदर्शक बने ! मेरा ईमेल id हैं nailwaolabhinit@gmail. com Reply Mohan-lal July 1, 2020 at 3:59 PM thanks bro apne bahut hi achse Whatsapp ke feature’s ke bary mein bataya hai.  mujhe apka yeh article bahut hi acha laga Reply Rihan August 22, 2020 at 6:05 PM thank you sir really me achha laga padh kar nice content sir Reply Gourav October 20, 2020 at 8:56 PM Bhai thank you so much. Reply Naveen January 14, 2021 at 10:53 PM Bhaiyya thanks share karne k liye, but yeh what\n",
            "Text number 5 : 25 फरवरी, 2021|9:28|IST\n",
            "Text number 6 : This website uses cookies to improve your experience.  We'll assume you're ok w\n",
            "Text number 7 : Disclaimer :- This story has not been edited by Outlook staff and is auto-generated from news agency feeds.  Source: PTI (Eds: Disclaimer: The following press release comes to you under an arrangement with Newsvoir.  PTI takes no editorial responsibility for the same. ) Pune, Maharashtra, India (NewsVoir) • Shop for smartphones and get it delivered within 24 hours.  • Enjoy a cash-free shopping experience on the EMI store of Bajaj Finserv from the comfort of home • Choose from a variety of electronics and smartphones on No Cost EMI and zero down payment.  Buying the latest smartphone with cutting-edge technology can be a tough task, especially when one must consider the budget, different features, configurations etc.  However, one can shop online from the EMI Store of Bajaj Finserv and get their hands on premium smartphones without worrying about the costs.  Avail exclusive benefits like No Cost EMI, zero down payment, same-day delivery and much more.  The EMI Store hosts a variety of smartphones from different brands like OPPO, Xiaomi, Samsung, Redmi, Nokia, realme, Apple and Vivo.  That’s not all, customers can enjoy a cashless and hassle-free shopping experience on the EMI Store of Bajaj Finserv.  With over 1 million products to choose from, customers can shop for just about anything ranging from smartphones, tablets, televisions, and home appliances like washing machines, air-conditioners, refrigerators & fitness equipment.  Customers can choose a brand of their choice from a dealer located closest to them from Bajaj Finserv’s 43,000-strong EMI Network.  By doing so, they are assured quick delivery of their product.  The EMI Store currently hosts a number of newly launched mobile phones like the Oppo Reno5 Pro on No Cost EMI starting Rs.  1,714, and the all-new Samsung Galaxy S21 range of phones namely the Galaxy S21, Galaxy S21+, and Galaxy S21 Ultra which offer an unparallel premium smartphone experience.  Customers can also find some of the best-selling smartphones like the Oppo F17 - which is available on EMIs starting Rs.  1,133/- and the Vivo Y20 on EMI starting Rs.  1,299.  In addition, customers can also shop online for the following smartphones available at attractive EMIs on the EMI store of Bajaj Finserv.  Smartphone No Cost EMI starting at Vivo Y20 Rs.  1,299 Oppo F17 Rs.  1,133 Vivo V20 Rs.  1,388 Redmi Note 9 Pro Max Rs.  1,417 Samsung Galaxy A21s Rs.  1,000 Oppo A53 Rs.  1,249 Listed below are reasons why one should shop on the EMI Store: 1.  Same-day delivery By shopping on the EMI Store, customers can avail products from their favourite dealer and enjoy doorstep delivery on the same day.  2.  Zero down payment One can choose the zero down payment option on select products and take home the latest smartphone or electronics without paying anything while purchasing the product from the EMI Store.  3.  No Cost EMI with flexible repayment tenure Customers can purchase the latest smartphone on No Cost EMIs while shopping on the EMI Store.  Apart from that, they can select their repayment tenure according to their convenience ranging up to 24 months.  4.  Cash-free shopping experience Customers can shop online for the latest smartphone from the comfort of their homes by using the Bajaj Finserv EMI Network Card.  This digital card comes with a pre-approved loan amount up to Rs.  4 lakhs which can be used while shopping for smartphones and electronics like laptops, LED TVs, etc.  Existing customers of the Bajaj Finserv EMI Network can also benefit from pre-approved offers.  Shoppers can not only place their order and pay for it online, but they can also enjoy delivery at their doorstep the very same day, often in around four hours.  About Finserv MARKETS Finserv MARKETS has been launched by Bajaj Finserv Direct Limited, a subsidiary of Bajaj Finserv.  It is a one-stop digital marketplace that helps consumers compare and choose from a wide range of financial products.  It has partnered with leading financial providers in the Lending, Insurance, Investments and Payments space to provide 500+ financial and lifestyle products, all in one place.  Its core proposition, Offers You Value, is driven by a strong intent to deliver tailor-made financial offers to its consumers.  So, from selecting from multiple loans offers to getting the loan amount credited into their bank account on the same day, from receiving a credit card instantly to purchasing an insurance policy, from investing in the best mutual funds to purchasing the latest gadgets on Zero Interest EMI, consumers can now get all their personal and\n",
            "Text number 8 : 25 फरवरी, 2021|9:13|IST\n",
            "Text number 9 : GlobeNewswire Key Players involved in the Global Metal Casting Market are Endurance Technologies Limited (India), Georg Fischer Ltd (Switzerland), Dynacast (US), GIBBS (US), Ryobi Limited (Japan), Precision Castparts Corp (US), Ahresty Wilmington Corporation (US), Alcast Technologies (Canada), Reliance Foundry Co.  Ltd (Canada), and FORCEBEYOND (US), among others. Pune, India, Feb.  24, 2021 (GLOBE NEWSWIRE) -- Global Metal Casting Market Overview: Market Research Future (MRFR), predicts that the Global Metal Casting Market is anticipated to acquire a market value of USD 352. 65 Billion while expanding at a CAGR of 7. 55% during the assessment period from 2019 to 2024.  Metal casting is one of the most adopted manufacturing processes and involves pouring molten metal into a die or sand mold to get the desired shape.  The growing demand for casting from the automotive sector is anticipated to make a significant contribution during the forecast period.  The imposition of strict rules and regulations regarding pollution and energy efficiency in vehicles is expected to trigger the expansion of the industry in the assessment tenure.  The rules have resulted in increased demand for lightweight vehicles, which is another salient cause that can grow the market significantly.  The increasing vehicle production along with rising demand for premium vehicles, are predicted to augment the market in the assessment period.  Furthermore, the growing production of electric and hybrid vehicles is anticipated to offer significant opportunities of expansion in the metal casting industry.  On the contrary, the increasing preference for alternative metal processes is expected to be a significant factor that can hamper the market growth in the coming time.  Furthermore, the high costs associated with casting metals is another cause that can hinder the market growth in the assessment tenure.  However, the presence of various untapped markets in developing countries can provide lucrative opportunities of expansion in the forecast tenure.  Developments Post COVID-19 Outbreak: The outbreak of COVID-19 has resulted in a negative impact on the casting market due to the temporary shutdown of manufacturing facilities and reduced demand.  The imposition of lockdown affected the building and construction sector that brought a significant impact on the demand and supply chain.  However, with the lifting up of lockdown across countries, the market is expected to gain momentum gradually.  Get Free Sample PDF Brochure @  Market Segmentation: The segmental analysis of the global metal casting market is done by process, material type, and end-use.  In the process-based segment of the global metal casting market, the sand casting segment is anticipated to be the most adopted metal casting process due to the low costs involved.  The segment is expected to procure a market value of USD 352. 6 billion by 2024.  In the material type segment of the global metal casting market, the cast iron segment is predicted to be the most preferred material type.  The market is projected to record a CAGR of 6. 70% while garnering a market value of USD 202. 7 billion by 2024.  The expansion of the segment can be attributed to the increasing application of cast iron in various end-use industries due to its superior properties.  In the end-user segment of the global metal casting segment, the automotive & transportation sector is anticipated to procure the largest market share in the coming time Key Players Locking Horns: Affluent vendors in the Global Metal Casting Market are: Endurance Technologies Limited (India)Georg Fischer Ltd (Switzerland)Dynacast (US)GIBBS (US)Ryobi Limited (Japan)Precision Castparts Corp (US)Ahresty Wilmington Corporation (US)Alcast Technologies (Canada)Reliance Foundry Co.  Ltd (Canada) FORCEBEYOND (US) Browse In-depth Market Research Report (253 Pages) on Metal Casting:  Regional Status: As per the regional analysis conducted by MRFR, APAC is anticipated to remain the market leader during the forecast period.  The region is predicted to thrive at the highest growth rate of 8. 33%, owing to the rapid development of the automotive sector.  Among all, China is anticipated to be the most lucrative market owing to the rapid growth of automobile production and increasing disposable income are expected to make a significant contribution to developing the market in the coming time.  The growing launch of new automotive brands in developing countries is also likely to augment the market size in the region.  The announcement of the launch of Tesla in India is expected to offer significant growth opportunities in the region.  Further, the launch of updated EVs is also likely to increase the market size in APAC.  In Feb 2021, MG Motor India announced that it would introduce an updated 2021 version of the ZS EV.  Europe is anticipated to procure significant market value during the forecast period.  The expansion of the region can be attributed to the presence of established players.  In December 2020, Rio Tinto, a UK headquartered player, introduced a range of high-performance allow series that will be used by North Americas vacuum die casters for mixing with their scrap and recycling the crushed wheels that have been cleaned.  The product will be pocket-friendly and will have lesser carbon emissions, which will make a substantial contribution in strengthening the market in the region.  Furthermore, the robust presence of vital automotive players in the region is anticipated to further augment the market size.  North America is expected to garner significant market value during the forecast period owing to the rapid expansion of the automotive and construction sector.  Among all, the US is predicted to play a significant role in augmenting the market in the region.  Share your Queries @  Increasing Investments by Key Players to Expand Consumer Base The competition prevailing in the metal casting industry is propelling owing to the growing initiatives taken by the key players to stay relevant in the market.  The rising cases of acquisitions and partnerships are likely to expand the consumer base and also boost the growth potential.  The rapid rise in the expansion of manufacturing capacity across the world is another competitive strategy adopted by firms to gain the upper hand in the market.  The growing investment of key players in various fields are expected to offer a strong grip to the player in the industry.  For example, Tesla invested USD 1. 5 billion in Bitcoin.  Further, the growing contribution of Tesla to dig a 3. 2 Km tunnel under Miami for USD 30 million can further fuel the market competition by providing Tesla, an upper hand as compared to other players.  In another recent news, Endurance Tech Limited, an Indian player, has announced commercial production at the new plant in Tamil Nadu.  The growing expansion strategies can boost the competition in the industry.  Discover more research Reports on Chemicals Industry, by Market Research Future: Cast Elastomers Market: Information By Type (Hot Cast and Cold Cast), By Application (Automotive, Industrial, Mining, Oil & Gas, Sports & Leisure, Agriculture and Others) - Forecast till 2025 Investment Casting Market: Information by Type (Silica Sol Process, Sodium Silicate Process), Application (Aerospace & Military, General Industrial, Industrial Gas Turbines, Automotive, Others) and Region (Europe, Asia-Pacific, North America, Latin America and Middle East & Africa) - Forecast till 2025 Cast Acrylic Sheets Market: Information by Type (Cell Cast Acrylic Sheet, Continuous Cast Acrylic Sheet, Extruded Acrylic Sheet), Application (Signage & Display, Architecture & Interior Design, Automotive & Transportation), Region—Forecast till 2023 Aluminum Castings Market Research Report - By End-Use Industry (Building & construction, Industrial, Transportation, Others), By Process (Die Casting, Sand Casting, Permanent Mold Casting) and Region – Global Forecast to 2023 About Market Research Future: Market Research Future (MRFR) is a global market research company that takes pride in its services, offering a complete and accurate analysis with regard to diverse markets and consumers worldwide.  Market Research Future has the distinguished objective of providing the optimal quality research and granular research to clients.  Our market research studies by products, services, technologies, applications, end users, and market players for global, regional, and country level market segments, enable our clients to see more, know more, and do more, which help answer your most important questions.  Follow Us: LinkedIn | Twitter CONTACT: Contact: Market Research Future Phone: +1 628 258 0071(US) +44 2035\n",
            "Text number 10 : नई दिल्ली। वनप्लस के सह-संस्थापक कार्ल पेई ने कथित तौर पर कंपनी को छोड़ दिया है। पेई ने कम्पनी के फ्लैगशिप वनप्लस 8टी सीरीज और नॉर्ड एन10 सीरीज लांच से ठीक पहले कम्पनी छोडऩे का फैसला किया है। विदेशी मीडिया रिपोर्ट के अनुसार पेई नया वेंचर शुरू करने के लिए कंपनी छोड़ रहे हैं और अभी उनकी पूंजी जुटाने के लिए निवेशकों से बातचीत चल रही है। वह अब तक वनप्लस नॉर्ड लाइनअप को देख रहे थे और इससे पहले वनप्लस के फ्लैगशिप मॉडल्स उनके पास थे।वनप्लस 14 अक्टूबर को अपने फ्लैगशिप मॉडल 8जी 5जी का ग्लोबल लांच कर रहा है। इस फोन के बने थे इंचार्ज कार्ल पेई को वन प्लस नोर्ड का इंचार्ज बनाया गया थाख् जिसके बाद इस फोन को लांच किया गया था। अब उनकी जगह वन प्लस इंडिया के हेड एमली डेई को वन प्लस नोर्ड का इंचार्ज बनाया गया है। वहीं दूसरी ओर अभी तक साफ नहीं हो सका है कि उन्हें निकाला गया है या फिर उन्होंने खुद कंपनी को छोड़ा है। शुरू कर सकते हैं नया वेंचर विदेशी मीडिया रिपोर्ट के अनुसार कार्ल पेई वन प्लस को छोड़ नया वेंचर शुरू कर सकते हैं। जिसकी तैयारी के तहत उन्होंने इंवेस्टर्स से बातचीत भी शुरू कर दी है। आपको बता दें कि 7 साल में वन प्लस में काफी चेंजेस देखने को मिले हैं। प्रीमियम स्मार्टफ़ोन मार्केट में फोकस करने वाली वन प्लस भारत में आईफोन को कड़ी टक्कर दे रही है। आज लांच होने जा रहा है फोन जानकारों की मानें तो आज यानी 14 अक्टूबर को भारत में वन प्लस 8टी 5जी लांच होने जा रहा है। वनप्लस 8टी 5जी स्मार्टफोन के 8जीबी+128जीबी वेरियंट की कीमत करीब 44 हजार रुपए और 12जीबी +256जीबी वेरियंट की करीब 51 हजार रुपए देखने को मिल सकती है। 4 रियर कैमरों वाला वनप्लस 8टी कंपनी के वनप्लस 8 सीरीज के स्मार्टफोन्स\n",
            "Text number 11 : पटना, अरविंद शर्मा: बिहार में युवा राजनीति के नए प्रतीक और महागठबंधन के मुख्यमंत्री का चेहरा तेजस्वी यादव इन दिनों चुनावी सभाओं में अति व्यस्त हैं। आम लोगों से मिल रहे हैं। संवाद कर रहे हैं। बिहार की तस्वीर बदलने का वादा कर रहे हैं। महागठबंधन के प्रत्याशियों की ओर से रैलियों और सभाओं के लिए सबसे ज्यादा मांग तेजस्वी की ही है। इसलिए एक-एक दिन में उन्हें 17-17 सभाएं करनी पड़ रही है। उनका पूरा दिन मंचों, सभाओं और प्रत्याशियों के बीच ही गुजरता है। प्रस्तुत है प्रमुख अंश:- 1.  चुनाव में आप बहुत मेहनत कर रहे हैं तो शुरुआत इसी से करते हैं कि आपको कितनी सीटों की उम्मीद है? हमें उम्मीद ही नहीं, पूरा विश्वास है कि महागठबंधन दो तिहाई बहुमत के साथ बिहार में अगली सरकार बनाने जा रहा है। जिस तरह से आज आम लोग त्रस्त हैं, यह संख्या ऊपर जा सकती है, पर कम होती नहीं दिख रही है। 2.  दस लाख नौकरियों को लेकर आम लोगों में बड़ा कन्फ्यूजन है। आप नौकरी देंगे या रोजगार? संविदा की सारी नौकरियों को भी स्थाई करने का आपने वादा किया है। पहले से जो संविदा पर हैं, उन्हें परमानेंट करने का भरोसा दिया है। कहां से और कैसे आएगा इतना संसाधन? - हमने स्पष्ट शब्दों में 10 लाख स्थाई व सरकारी नौकरियों की बात कही है। इसे लेकर किसी के भी मन में संशय या भ्रम नहीं है। इसके अलावा हम संगठित व असंगठित क्षेत्र में रोजगार के पर्याप्त मौके उत्पन्न करेंगे। यह तभी संभव है, जब सेवा, निर्माण व कृषि क्षेत्र के विकास पर पर्याप्त ध्यान दिया जाए। पूंजी निवेश को आसान व आकर्षक बनाया जाए। ऋण आसानी से मिल जाए और आधारभूत संरचना सुलभ हो। हमारी सरकार सभी पहलुओं पर ध्यान देते हुए आगे बढ़ेगी। इसके अलावा कुटीर, छोटे व मध्यम उद्योगों के विकास के लिए भी प्रशिक्षण, ऋण व अनुदान की व्यवस्था करेगी। जब सरकारी व गैर सरकारी, संगठित-असंगठित, सेवा व निर्माण, कृषि व उससे जुड़ी गतिविधियों को मदद मिलेगी तो अर्थव्यवस्था स्वाभाविक रूप से तेज़ी से बढ़ेगी, जिससे रोजग़ार व नौकरियों के अवसर ही उत्पन्न नहीं होंगे, बल्कि सरकार की आय में भी वृद्धि होगी। इस बढ़ी हुई आय से सरकार शिक्षा, स्वास्थ्य, जन कल्याण व आधारभूत संरचना को बेहतर ही नहीं कर सकती, बल्कि लाखों संविदा कॢमयों को भी स्थायी कर सकती है। बस ज़रूरत है योजना बनाकर इच्छाशक्ति के साथ चलने की। एनडीए सरकार बताए कि संविदाकर्मियों को स्थायी क्यों नहीं किया? 3.  आपने राजद को एटूजेड की पार्टी बनाने का वादा किया था। आबादी के हिसाब से भागीदारी देने की बात कही थी। मगर टिकट वितरण में ऐसा कुछ नहीं दिखा। सवर्ण जातियों को फिर नजरअंदाज किया गया। -यह कहना सही नहीं है। राजद और महागठबंधन ने आपसी सहमति और गहन विचार-विमर्श के बाद सभी जाति एवं वर्गों को उचित प्रतिनिधित्व दिया है। आप आंकड़े देख सकते हैं। हमने सभी वर्गों के लिए अपनी पार्टी का दरवाजा ही नहीं है, दिल भी खोला है। 4.  आप युवा हैं और सोच भी नई है। आज का राजद युवा सोच के मुताबिक कितना बन पाया है। लालू प्रसाद के जमाने से कितना आगे बढ़ पाया है। - अब हम पूरे बिहार की बात कर रहे हैं। हम लैपटॉप से और स्मार्टफ़ोन के टच से दुनिया को देखते हैं। नए दौर में स्वभाविक है नई सोच होगी। पूरे बिहार में राजद अकेली पार्टी है, जो सकारात्मक एजेंडे के साथ चुनाव में उतरी है। राजद प्रगति, जन सरोकार और रोजगार के मुद्दे के साथ ही आगे बढ़ना चाहती है। ये जनता के वास्तविक मुद्दे हैं, जो उनके जीवन को प्रभावित करते हैं। हम लालू जी द्वारा लाए सामाजिक न्याय के दूसरे पड़ाव अर्थात आर्थिक न्याय पर काम कर रहे हैं जो हर वर्ग के लोगों के जीवन पर सकारात्मक प्रभाव डालेगा। अब यह पहले से कितना आगे या अलग है, यह निर्णय तो जनता करेगी। 5.  राजद कार्यकर्ताओं में प्रचारित है कि आप किसी से मिलते-जुलते नहीं हैं। विधायकों को भी इंतजार कराते हैं। यहां आपकी तुलना लालू जी से की जाती है कि उनका दरबार सबके लिए खुला रहता था, किंतु आपका. . . ? - यह गलत धारणा है। हमारा दरवाजा सदा खुला रहता है। बंद तो अणे मार्ग रहता है। मेरे पिता से मेरी तुलना बेमानी है। हममें एक पीढ़ी का अंतर है तो स्वाभाविक है कुछ चीजें भी अलग होंगी। सबका काम करने का तौर-तरीक़ा अलग-अलग होता है। क्या आपका तरीक़ा अपने पिता से अलग नहीं है? पहले नेता पैदल चुनाव प्रचार करते थे। अब गाडिय़ों से करते हैं। जमाने के साथ चीजें भी बदली हैं। अब हार्ड वर्क के साथ स्मार्ट वर्क का भी ज़माना है। 6.  भाजपा-लोजपा के ताजा स्टैंड को आप किस रूप में देखते हैं। मैं सिर्फ इस विधानसभा चुनाव की बात कर रहा हूं। लोग बता रहे हैं कि दोनों दल मिलकर जदयू को परेशान कर रहे हैं। आप कितना सहमत हैं? - देखिए, एनडीए के अंदर के खेल को समझने में मैं ऊर्जा व्यय नहीं करना चाहता। मैं बेहतर, विकसित और नए बिहार एव बेरोजगारी मिटाने के एक सकारात्मक एजेंडे के साथ बढ़ रहा हूं, जिससे त्रस्त जनता मुझमें विश्वास दिखा रही है। यह बड़ी जिम्मेदारी है। समय सीमित है और बिहार की बेहतरी के लिए जरूरी है कि मैं इस संदेश को जन-जन तक पहुंचाऊं। नीतीश जी से पूरा बिहार परेशान है। इसी फेहरिस्त में चिराग जी भी शामिल हैं तो इसमें कौन सी बड़ी बात है! चिराग जी तो कह रहे हैं वो भाजपा का ही मुख्यमंत्री बनाना चाहते है और भाजपा ने इसका खंडन भी नहीं किया है। व्यक्तिगत तौर पर मैं इस जोड़तोड़ और भितरघात की राजनीति से सरोकार नहीं रखता हूं। 7.  अब संभावनाओं पर सवाल। अगर किसी दल को बहुमत नहीं मिला तो बिहार को एक और चुनाव में धकेलने से बचाने के लिए क्या आप भाजपा या जदयू को समर्थन देंगे या जरूरत पड़ेगी तो समर्थन लेना पसंद करेंगे? ऐसी स्थिति आई तो आप दोनों में से किसे चुनेंगे? - हमें दो तिहाई पूर्ण बहुमत मिलने जा रहा है। दोनों एक ही टीम के सदस्य हैं। बस जर्सी अलग है। एक की जनविरोधी, संविधान विरोधी विचारधारा हमें स्वीकार नहीं और दूसरे की सिद्धांतहीन कुर्सीवादी राजनीति मंजूर नहीं। 8.  आप अगर बड़े दल के रूप में उभरते हैं और बहुमत से दूर रहते हैं तो क्या अपने पुराने साथियों से समर्थन मांगेंगे। जीतनराम मांझी, उपेंद्र कुशवाहा और मुकेश सहनी से समर्थन लेने पर क्या विचार है? - जब हमें दो तिहाई बहुमत मिलने जा रहा है तो कल्पना में क्यों विचरण करना। 9.  चिराग पासवान या कन्हैया कुमार से आपकी राजनीतिक दूरी क्यों बनी रहती है? मिलना-जुलना भी नहीं होता है। कोई डर है या रणनीति? -चिराग पासवान से हमारा पारिवारिक रिश्ता है। सुख-दुख में हम मिलते हैं। राजनीतिक रूप से वो एनडीए गठबंधन में हैं तो स्वाभाविक रूप से राजनीतिक दूरी है। राजनीति में अगर आप जन-सरोकार के सकारात्मक एजेंडे के साथ व जनता के साथ खड़े हों तो किसी से\n",
            "Text number 12 : A strong commitment to research and innovation and the allocation of Rs 50,000 crore over a period of five years through the National Research Fund is probably the most talked-about announcement in academic circles about this year’s Union Budget.  Hailing it as a gamechanger move, educationists hope that given Pune’s reputation for being a city of top-notch academics and research institutions, it would prove beneficial to boosting research.  “For the last few years now, there has been a strong focus on research and innovation.  Pune is one of the six cities where a knowledge centre was created directly under the PMO where top universities, research institutions, and the industry is working together to promote research.  Given the infrastructure, research culture, and institutions that we have, we hope to be one of beneficiaries of this renewed focus,” said Dr Nitin Karmalkar, vice-chancellor, SPPU.  Read | Education Budget 2021: National Language Translation mission, 100 new Sainik Schools, NEP implementations Dr Dishan Kamdar, vice-chancellor, Flame University termed the government’s decision to allocate Rs. 50,000 crores over five years as a shot in the arm for the country’s research ecosystem.  “Lack of adequate funding has been a constraint for several higher education institutions and this support will enable the institutions and the faculty to produce high quality, rigorous research output,” he said.  Stating that the entire budget has been aligned to the roll-out of the new National Education Policy, Dr Vidya Yeravdekar, pro-chancellor of Symbiosis International (Deemed) University said allocating Rs 50,000 crores towards NRF would give Indian universities the money to invest in doing research which was lacking so far.  Another high point of the budget was the higher education commission, an umbrella body for accreditation, regulation, funding and more.  “The regulatory framework in Higher Education sector was stifling.  We welcome the commission for which legislation will come out this year, as all regulatory bodies will be merged into this one council,” said Yeravdekar.  Educationists said the focus on skill development and practical learning, especially the amendment of the National Apprenticeship Programme is also welcome.  Read | The Budget Connection: ‘Poor Internet… most parents can’t afford smartphones’ “At the local level, we have started focussing on it already.  Coming up with various skill-related courses, tying up with industry to offer internships.  Allocating Rs 3000 crore for the apprentice training scheme is a considerable commitment, which will ensure that skilling of students get priority, enabling them to be future-ready.  A partnership with the UAE to benchmark skill qualifications and certifications is a great move,” said Karmalkar.  As far as the school education sector goes, strengthening of 15000 schools to act as mentor to other schools, starting 100 Sainik schools, to an evolved pedagogical approach for students in K12 sector moving from rote to conceptual learning, were some of the highlights.  Read | School education takes biggest hit: Govt cuts proposed education spending by Rs 6,000 cr “The government’s decision to strengthen school education across 15,000 schools despite the hurdles owing to the COVID-19 pandemic shows clear intent.  However, the rollout and implementation across all states should be done within a couple of years to bring parity for students to access education across the country.  The participation of the private sector and NGOs in managing and operating schools will be an enabler in providing a modern and high-quality framework for education and boost the sector to engage with many more projects under the public-private partnership model,” said Rustom Kerawalla, Chairman, Ampersand Group.  However, educationists in the K12 sector, opined much was left out.  “As private players in the K12 education sector, we had one of the toughest years.  We were relying heavily on the budget announcement in terms of rebates through tax concession or relaxation in terms of the GST.  However, there was no such mention with regards to any of these.  It has therefore put us in a difficult place, financially, forcing us to rely heavily on the fees paid by the parents.  The government needs to take notice of private players too, and this budget has largely ignored us,” said Dr Aanieetaa Vaissn\n",
            "Text number 13 : 2 सितंबर ये 118 ऐप्स किये गए बैन APUS Launcher Pro- Theme, Live Wallpapers, Smart APUS Launcher -Theme, Call Show, Wallpaper, HideApps APUS Security -Antivirus, Phone security, Cleaner APUS Turbo Cleaner 2020- Junk Cleaner, Anti-Virus APUS Flashlight-Free & Bright Cut Cut – Cut Out & Photo Background Editor Baidu Baidu Express Edition FaceU - Inspire your Beauty ShareSave by Xiaomi: Latest gadgets, amazing deals CamCard - Business Card Reader CamCard Business CamCard for Salesforce CamOCR InNote VooV Meeting - Tencent Video Conferencing Super Clean - Master of Cleaner, Phone Booster WeChat reading Government WeChat Small Q brush Tencent Weiyun Pitu WeChat Work Cyber Hunter Cyber Hunter Lite Knives Out-No rules, just fight! Super Mecha Champions LifeAfter Dawn of Isles Ludo World-Ludo Superstar Chess Rush PUBG MOBILE Nordic Map: Livik PUBG MOBILE LITE Rise of Kingdoms: Lost Crusade Art of Conquest: Dark Horizon Dank Tanks Warpath Game of Sultans Gallery Vault - Hide Pictures And Videos Smart AppLock (App Protect) Message Lock (SMS Lock)-Gallery Vault Developer Team Hide App-Hide Application Icon AppLock AppLock Lite Dual Space - Multiple Accounts & App Cloner ZAKZAK Pro - Live chat & video chat online ZAKZAK LIVE: live-streaming & video chat app Music - Mp3 Player Music Player - Audio Player & 10 Bands Equalizer HD Camera Selfie Beauty Camera Cleaner - Phone Booster Web Browser & Fast Explorer Video Player All Format for Android Photo Gallery HD & Editor Photo Gallery & Album Music Player - Bass Booster - Free Download HD Camera - Beauty Cam with Filters & Panorama HD Camera Pro & Selfie Camera Music Player - MP3 Player & 10 Bands Equalizer Gallery HD Web Browser - Fast, Privacy & Light Web Explorer Web Browser - Secure Explorer Music player - Audio Player Video Player - All Format HD Video Player Lamour Love All Over The World Amour- video chat & call all over the world.  MV Master - Make Your Status Video & Community MV Master - Best Video Maker & Photo Video Editor APUS Message Center-Intelligent management LivU Meet new people & Video chat with strangers Carrom Friends : Carrom Board & Pool Game- Ludo All Star- Play Online Ludo Game & Board Games Bike Racing : Moto Traffic Rider Bike Racing Games Rangers Of Oblivion : Online Action MMO RPG Game Z Camera - Photo Editor, Beauty Selfie, Collage GO SMS Pro - Messenger, Free Themes, Emoji U-Dictionary: Oxford Dictionary Free Now Translate Ulike - Define your selfie in trendy style Tantan - Date For Real MICO Chat: New Friends Banaen aur Live Chat karen Kitty Live - Live Streaming & Video Live Chat Malay Social Dating App to Date & Meet Singles Alipay AlipayHK Mobile Taobao Youku Road of Kings- Endless Glory Sina News Netease News Penguin FM Murderous Pursuits Tencent Watchlist (Tencent Technology Learn Chinese AI-Super Chinese HUYA LIVE – Game Live Stream Little Q Album Fighting Landlords - Free and happy Fighting Landlords Hi Meitu Mobile Legends: Pocket VPN for TikTok VPN for TikTok Penguin E-sports Live assistant Buy Cars-offer everything you need, special offers and low prices iPick Beauty Camera Plus - Sweet Camera & Face Selfie Parallel Space Lite - Dual App Chief Almighty: First Thunder BC MARVEL Super War NetEase Games AFK Arena Creative Destruction NetEase Games Crusaders of Light NetEase Games Mafia City Yotta Games Onmyoji NetEase Games Ride Out Heroes NetEase Games Yimeng Jianghu-Chu Liuxiang has been fully upgraded Legend: Rising Empir\n",
            "Text number 14 : Sign in Welcome! Log into your account your username\n",
            "Text number 15 : Mobile Number Security Badaye SIM PIN se | SIM Lock/Unlock September 13, 2017 by Rohit Mewada Aaj ki date me har insan ke pass Mobile hai or 60% to aese hai jinke pass Double Mobile bhi hai. .  Technology jese jese badti ja rahi hai hamare kaam aasan to ho rahe hai par uske sath sath jo risk hai wo bhi bad raha hai, aesa hi ek risk hai aapka Mobile Number Hack hone ka. . Security ko jitna update rakha jaye utna hi hamare liye acha rheta hai, or aap ye to jante hi hoge, Security ko double karne ke liye Banks, GMail, Facebook ya koi or service ho, OTP ka use karte hai. OTP ke jariye hamare Mobile Number par ek code aata hai, jisko dalne par hamara account verify hota hai, uske baad open hota hai. .  dekha jaye to, hamare Mobile par jo OTP aaya hai wo kisi ko naa mile to wo hamara account access nahi kar payege, bhale wo password gase kar bhi le. Par iska ulta, agar unko hamare Mobile number par aaye OTP mil jaye to wo hamare kisi bhi account ko Hack kar sakte hai badi aasani se. . To ab aap ye to samaj gaye hoge, ki agar aapka Mobile Number Hack huaa. .  or kisi ko aapke Number par aaye OTP mil jaye to wo aapke kisi bhi account ko hack kar sakte hai. .  OTP Hack kaise ho sakta hai uske ware me bhi jaan lete hai. Table of Contents [hide] [hide] OTP kaise Hack hota hai #1: Mobile Access mil jaye #2: SPY App ki madad se #3: SIM Laga kar Dusre Mobile me Mobile Number Lock kare SIM PIN ki madad se SIM PIN Kya hai ? SIM PIN kaise set kare Default SIM PINS SIM PIN Change SIM Unblock kaise kare OTP kaise Hack hota hai OTP Hack ka matlab jo Verification ke liye SMS me code aaye wo kisi ko pata chal jaye. .  iske hack hone ke tarike hai: #1: Mobile Access mil jaye Aapka Mobile kisi ko mil jaye, or wo usko open karke aasani se SMS me code dekh sakte hai, isse bachne ke liye aapko apna mobile kisi ko nahi dena hai or Mobile me Password laga kar rakhe. #2: SPY App ki madad se Agar koi aapke Mobile me SPY App install karde, uske baad bhi wo aapke message dekh sakte hai, isse bachne ke liye kisi ko apna Phone naa de or hamesa Password laga kar rakhe. #3: SIM Laga kar Dusre Mobile me Agar aapne Mobile me Password laga rakha hai or aap apna Phone kisi ko dete bhi nahi hai. .  Fir bhi ho sakta hai kabhi aap kahi phone ko rakhe, ya aapka Phone Chori ho jaye. .  to wo aapke SIM ko dusre Mobile me laga kar OTP message dekh sakte hai. khene ka Matlab agar aapko apna OTP Hack hone se bachana hai to aapko Mobile ke sath sath SIM lock bhi karna hoga jo aap SIM PIN ki madad se kar sakte hai. Mobile Number Lock kare SIM PIN ki madad se SIM PIN Kya hai ? SIM PIN Mobile SIM ki PIN hoti hai jo Mobile k pin se alag hoti hai, agar SIM ko kisi bhi mobile me lagaye ya same Phone ko restart kiya jaye to SIM ko unlock karne ke liye SIN PIN dalni padti hai. SIN PIN se hamare number ki security badh jati hai, q ki koi bhi fir bina SIM PIN ke hamara number use nahi kar sakte. SIM PIN kaise set kare SIM PIN set karne ki simple process hai, iske liye aapko apne Mobile ki setting me jakar Security and PIN setting me jana hoga. . Aapka Mobile konsi company ka hai, uspar depend karta hai ye setting aapke mobile me kaha hogi. .  aap dekhe, nahi to direct apne “mobile ke name se sath SIM PIN” likh kar search kare to uski setting kaha hai aapko pata chal jayega. Ab aapko phele wali PIN Dalni hogi, agar aapne abhi tak koi PIN nahi dali hai to default PIN 0000 ya 1234 hoti hai wo dale. . Default SIM PINS Mobile Network Default SIM PIN Airtel code 1234 Vodafone code 0000 BSNL code 0000 Aircel code 0000 Reliance code 0000 Idea code 1234 Reliance jio try 0000 or 1234 Tata Docomo code 1234 Aap apni Company ka SIM PIN dale, uske baad aapki SIM par Lock on ho jayega. SIM PIN Change SIM PIN enable karne ke baad aap unki PIN ko change kar sakte hai, uska option aapko SIN PIN enable karne ke niche hi milega, waha aapko apni Old PIN or 2 time New PIN dalni hai. SIM Unblock kaise kare Agar SIN PIN set hai, to jitni war bhi Mobile on hoga jis mobile me wo SIM lagi hai, 4 digit SIM PIN magi jayegi, uske baad hi Mobile on hoga or Mobile me network aayega. Important Note: jo SIM PIN hai wo agar 3 war galat dali jaye to SIN Lock ho jati hai. Agar 3 war galat SIM PIN Dalne ke karan SIM Lock hogai hai to uske baad PUK Number maga jayega, to agar aapko apni SIN ka PUK Number janna hai to aap costumer care call kare dusre number se uske baad apni detail bata kar verify kare, fir aapko PUK number mil jayega SMS ke jariye. Agar PUK Number 10 war galat dala gaya to uske baad SIM permanently block ho jayegi, or fir agar aapko wahi number chaiye to aapko same document se ussi number ki SIM leni hogi. To ab aap jaan chuke hai kaise aap apni SIM ki Security bada sakte hai, Agar aapki SIM ki security aapne set nahi ki hai to aapke jitne bhi account hai wo hack ho sakte hai. Janiye kaise Whatsapp Hack hota hai, Facebook Hack hota hai, GMail Hack hack hota hai. *Aapko ye jankari kesi lagi ya isse sambandit koi sabal ho to aap comment me puch sakte hai. Categories Mobile Tags Hack, mobile, Security, SIM Post navigation Free WiFi or Password Pata kare Mobile Me (WiFi Map) First Impression Kya Hai Aur Blog Ke Liye Kyu Hai Jaruri ? Rohit Mewada Hello Friends, I'am Rohit Mewada . .  HMH ka Admin.  Muje Logo ki Help Karna Acha Lagta hai or Is website Par Me Logo ki Hindi Me Help karta hu :)  Read More. . . Ajay Kumar September 13, 2017 at 6:37 PM Nice Article sir. Kush lok aise hote hai (pehley me bhi tha) ki is feature par puhanch kar Dar jaate the ki khi sim vagera block na ho jaye.  lekin abh pata chala ki ye hamari hi security ke liye hai. Sir mere blog ki menus sahi kaise hongay. Reply Rohit Mewada September 13, 2017 at 8:00 PM Aap important section bhi add kare. .  Menu me. . Reply Pravin Kharade September 13, 2017 at 8:09 PM Very Helpful Article sir ji…. Maine isase pehle SIM PIN ka use kiya tha lekin mujhse 1 sim block hua tha.  Wo aapki vajah se aaj firse unblock ho chuka…. Thank you Rohit sir. Reply Rohit Mewada September 14, 2017 at 8:34 AM Great ? Reply Ravinder Singh Rai September 13, 2017 at 8:17 PM Thanku bhai… Acha laga post muje Reply Rohit Mewada September 14, 2017 at 8:33 AM Thanks Reply Vishal September 14, 2017 at 7:57 AM Nice post Rohit bro ?? Reply Rohit Mewada September 14, 2017 at 8:31 AM Thanks brother ❤️ Reply Deepak September 14, 2017 at 12:33 PM Mene bahut pehele pin wla system activate kia tha to puck code mangne laga tha abi upar wala steps follow krne pe kuch nhi hoga na Reply Rohit Mewada September 14, 2017 at 6:13 PM Agar galat dalte hai to Sim lock ho jata hai. .  Agar aapko apni Sim ki security badai hai to aap add kar sakte hai Reply Support me loud September 14, 2017 at 8:51 PM Nice Article Bro but risk hai Reply Ankit Kumar September 14, 2017 at 10:16 PM Bahut Badiya Rohit Mewada bhai. Reply gurmeet singh September 14, 2017 at 10:34 PM Gajab Jankari Reply trickmanna September 15, 2017 at 8:46 PM Nice Post Rohit Bro Reply Rohit Mewada September 16, 2017 at 8:14 AM Thanks Reply Rakesh September 16, 2017 at 12:04 AM Really Good information share ki hai aapne Reply Vishal Jaiswal September 16, 2017 at 4:00 PM useful information…good Reply dhan mohan September 17, 2017 at 3:06 PM Nice Post . . Thank You Reply Rajat Das June 22, 2018 at 9:34 PM Bhai maan lo ki mera sim kho gaya hai aur me duplicate karwaya hu… To kya duplicated sim pahle se ki locked hoga? Reply Rohit Mewada June 22, 2018 at 9:41 PM Agar same hi company ki karte hai to lock rahegi wo bhi. . Wass koi port naa kare. . To iss baat ka dhiyan rahe aapka sim code code or document kisi ko naa mile. . Reply Chems tamang June 22, 2018 at 10:04 PM Thanks rohit ji apka har ek post se bahut hi impotant jankari hasil hota h Reply Rohit Mewada June 29, 2018 at 12:10 PM thanks bhai. . Reply Harshit Raikwar June 23, 2018 at 3:22 PM Brother, first time I heard about SIM PIN helpful for marketers. Now I implemented right away. A very mea\n",
            "Text number 16 : Sign in Welcome! Log into your account your username\n",
            "Text number 17 : Flipkart पर Oppo Days Sale श\n",
            "Text number 18 : Good Morning Bulletin, Top Ten News 06 February 2021: आज देश भर में किसान चक्का (Chakka Jam Kisan Andolan) जाम करेंगे.  किसान आंदोलन के नेता राकेश टिकैत (Rakesh Tikait) ने कहा है कि उत्तर प्रदेश और उत्तराखंड के किसान स्टैंडबाई में रहेंगे.  दिल्ली पुलिस (Delhi Police) इसे लेकर सचेत है और 12 मेट्रो स्टेशनों (Metro Stations) को पत्र लिखा है.  इधर, पांडिचेरी में 5 करोड़ में पीएम मोदी (PM Modi) के हत्या का प्रस्ताव देने वाले व्यक्ति को पुलिस ने गिरफ्तार कर लिया है.  पूरे जम्मू कश्मीर में 4G इंटरनेट सेवा बहाल (Jammu Kashmir 4g Internet News) करने की सूचना है, जिसपर उमर अब्दुल्ला (Omar Abdullah) ने तंज भी कसा है.  दवा निर्माता कंपनी फाइजर ने अपनी कोरोनावायरस वैक्सीन (Pfizer Coronavirus Vaccine) के आपातकालीन इस्तेमाल के आवेदन को वापस ले लिया हैं.  आरबीआई गवर्नर शक्तिकांत दास (Shaktikanta Das RBI Governor) ने रेपो रेट (RBI Repo Rate) को बरकरार रखने की घोषणा की है.  उन्होंने यह भी बताया कि रिवर्स रेपो रेट भी बदला नहीं गया है.  राज्यसभा में कृषि मंत्री नरेंद्र सिंह तोमर (Narendra Singh Tomar) के भाषण को पीएम मोदी ने ट्वी\n",
            "Text number 19 : New Mahindra Scorpio SUV features and specs Mahindra Scorpio S3 Plus SUV के फीचर्स की बात करें, तो यह नयी कार वन टच लेन इंडीकेटर, ऑटो डोर लॉक, सेंट्रल लैंप, साइड और रिअर फुट स्टेप्स, सेंट्रल लॉकिंग और रिअर डेमिस्टर जैसी खूबियों से लैस है.  इसके साथ ही, डुअल फ्रंट एयरबैग्स, रिअर पार्किंग सेंसर्स, एबीएस के साथ ईबीडी, पावर स्टीयरिंग, सिल्वर स्टील रिम, एलईडी टेल लैंप्स, फ्रंट यूएसबी चार्जिंग पोर्ट और मैनुअल ORVMs जैसे फीचर्स भी मिलते हैं.  इसमें 7,8 और 8 सीटर का ऑप्शन मिलता है.  इस व\n",
            "Text number 20 : #social-share { box-sizing: border-box; padding-bottom: 1rem; position: relative; } #social-share *, #social-share *::after, #social-share *::before { box-sizing: inherit; } #social-share . socal-share__button { align-items: center; appearance: none; background: none; border: none; color: black; display: inline-flex; font-size: 1rem; padding: 0; text-decoration: none; } #social-share . socal-share__button::before { background-image: url(“data:image/svg+xml,%3Csvg xmlns=’ viewBox=’0 0 512 512’%3E%3Cpath d=’M509. 053 371. 184c-5. 903-22. 032-20. 033-40. 446-39. 787-51. 85a87. 084 87. 084 0 00-6. 317-3. 286 211. 116 211. 116 0 001. 493-24. 947c0-43. 031-13. 007-84. 342-37. 613-119. 467-21. 785-31. 098-51. 183-55. 387-85. 514-70. 773. 035-1. 002. 077-2. 003. 077-3. 012 0-47. 086-38. 307-85. 392-85. 392-85. 392s-85. 392 38. 307-85. 392 85. 392c0 1. 011. 042 2. 011. 077 3. 012-34. 331 15. 387-63. 729 39. 676-85. 514 70. 773-24. 606 35. 124-37. 613 76. 435-37. 613 119. 466 0 8. 34. 508 16. 688 1. 493 24. 946a87. 084 87. 084 0 00-6. 317 3. 286C22. 98 330. 738 8. 85 349. 152 2. 946 371. 184c-5. 903 22. 032-2. 874 45. 044 8. 531 64. 797 11. 404 19. 753 29. 818 33. 883 51. 85 39. 787a85. 838 85. 838 0 0022. 24 2. 947c14. 796 0 29. 4-3. 881 42. 557-11. 477a86. 848 86. 848 0 008. 233-5. 423c35. 111 24. 724 76. 211 37. 73 119. 642 37. 73s84. 532-13. 007 119. 642-37. 73a86. 91 86. 91 0 008. 233 5. 423c13. 159 7. 597 27. 76 11. 478 42. 557 11. 477 7. 416 0 14. 884-. 975 22. 24-2. 947 22. 032-5. 903 40. 446-20. 033 51. 85-39. 787 11. 406-19. 753 14. 436-42. 764 8. 532-64. 797zM256 42. 833c30. 335 0 55. 014 24. 68 55. 014 55. 014 0 30. 334-24. 68 55. 014-55. 014 55. 014s-55. 014-24. 679-55. 014-55. 014c0-30. 335 24. 679-55. 014 55. 014-55. 014zM138. 568 407. 526c-3. 804 14. 193-12. 907 26. 056-25. 633 33. 404-12. 726 7. 346-27. 551 9. 299-41. 746 5. 496-14. 195-3. 803-26. 057-12. 907-33. 405-25. 633s-9. 3-27. 552-5. 496-41. 746c3. 803-14. 195 12. 907-26. 057 25. 633-33. 405 8. 477-4. 894 17. 884-7. 394 27. 418-7. 394 4. 777 0 9. 589. 629 14. 327 1. 899 14. 195 3. 803 26. 057 12. 907 33. 406 25. 633 7. 347 12. 726 9. 3 27. 551 5. 496 41. 746zm205. 52 7. 86a85. 6 85. 6 0 0010. 571 23. 989c-29. 194 19. 536-63. 007 29. 789-98. 66 29. 789-35. 652. 001-69. 465-10. 253-98. 659-29. 789a85. 566 85. 566 0 0010. 57-23. 989c5. 903-22. 032 2. 874-45. 044-8. 531-64. 797s-29. 819-33. 883-51. 851-39. 787c-9. 525-2. 553-19. 233-3. 428-28. 782-2. 685a180. 56 180. 56 0 01-. 812-17. 017c0-67. 838 39. 381-130. 144 99. 494-159. 826 13. 034 30. 52 43. 343 51. 964 78. 571 51. 964s65. 537-21. 446 78. 571-51. 964c60. 113 29. 682 99. 494 91. 988 99. 494 159. 826 0 5. 684-. 277 11. 37-. 812 17. 018-9. 549-. 742-19. 257. 133-28. 782 2. 684-22. 032 5. 903-40. 446 20. 033-51. 851 39. 787-11. 405 19. 754-14. 434 42. 765-8. 531 64. 797zm130. 127 5. 407c-7. 347 12. 726-19. 211 21. 83-33. 404 25. 633-14. 196 3. 802-29. 02 1. 851-41. 746-5. 496-12. 726-7. 347-21. 83-19. 211-25. 633-33. 404-3. 803-14. 195-1. 851-29. 02 5. 496-41. 746 7. 347-12. 726 19. 211-21. 83 33. 406-25. 633a55. 317 55. 317 0 0114. 327-1. 899c9. 533 0 18. 942 2. 5 27. 418 7. 394 12. 726 7. 347 21. 83 19. 211 25. 633 33. 405 3. 802 14. 194 1. 85 29. 019-5. 497 41. 746z’/%3E%3C/svg%3E”); background-position: center; background-repeat: no-repeat; background-size: contain; content: “”; display: inline-block; height: 1. 5em; margin-right: 10px; vertical-align: bottom; width: 1. 5em; } #social-share . socal-share__button::after { background-image: url(“data:image/svg+xml,%3Csvg xmlns=’ fill=’none’ viewBox=’0 0 16 16’%3E%3Cpath d=’M3. 146 5. 646a. 5. 5 0 01. 708 0L8 9. 793l4. 146-4. 147a. 5. 5 0 01. 708. 708l-4. 5 4. 5a. 5. 5 0 01-. 708 0l-4. 5-4. 5a. 5. 5 0 010-. 708z’ fill=’%23212121’/%3E%3C/svg%3E”); background-position: center; background-repeat: no-repeat; background-size: contain; color: currentColor; content: “”; display: inline-block; height: 1em; margin-left: 7px; position: relative; top: 1px; width: 1em; } #social-share . social-share__dropdown-menu { background-color: white; border: 1px solid black; border-radius: 0; box-shadow: none; display: flex; flex-direction: column; font-size: 15px; left: 0; list-style: none; min-width: 160px; padding: 0; position: absolute; top: 100%; z-index: 1; } #social-share . social-share__dropdown-menu li { padding: 0; } #social-share . social-share__dropdown-menu[aria-hidden=”true”] { display: none; } #social-share . social-share__dropdown-menu[aria-hidden=”false”] { display: flex; } #social-share . social-share__dropdown-menu a { color: black; display: block; line-height: 2; padding: 0 1em 0 2em; text-decoration: none; } #social-share . social-share__dropdown-menu a:hover { background-color: #dedede; } #social-share . social-share__dropdown-menu a:focus { background-color: #f5f5f5; outline: currentColor 1px dashed; outline-offset: -2px; } @media print { #social-share . social-share__dropdown-menu, #social-share . social-share__dropdown-menu[aria-hidden=”false”] { display: none; } } What’s the one essential you’d go back home for if forgotten? Maybe it’s your mask.  But also, your mobile phone, right? Your personal organizer, your digital wallet, your instant camera—your mobile device has become the most essential tool you use to stay connected to the people and things that are important at home, at the office, and everywhere in between.  It has evolved from being a companion to your desktop computer to being your personal, daily companion.  SUPPORT US | TFY SPONSORED ARTICLES | BEST OFFERS We’ve explored the evolving needs of people’s mobility and connectivity and we are announcing a number of new Microsoft 365 mobile-first capabilities that help people bring balance to their day.  This includes organizing and transforming their physical world such as documents, photos, and live-action video into digital assets, and offer secure ways to help protect sensitive information.  Microsoft Outlook for iOS is adding breakthrough conversational AI technology in the coming weeks with Cortana, your personal productivity assistant in Microsoft 365.  This experience is our first foray to deliver interactive, voice forward assistive experiences that aim to provide helpful ways of organizing your daily life.  Microsoft will soon introduce the ability for people to collaborate around user-created video content enhanced with intelligent scanning technology from Microsoft Lens in Teams mobile.  Office Lens is now Microsoft Lens and we’re adding enhancements that improve quality and performance in the new Lens app as well as the Microsoft 365 productivity apps that integrate the Lens technology such as Teams, Outlook, and Office.  Microsoft Lens will be able to recognize English handwriting and text to further accelerate digital transformation.  Coming first in the Lens app followed by Office mobile, you will be able to transcribe handwritten notes into text to simply add them to your documents.  We are also pleased to announce that the Office app is now optimized for iPad and will be available mid-February in the Apple App Store.  Watch the video below to see what’s possible with people’s ingenuity and mobile technology in action.  Your mobile device is an extension of you in both your work and personal lives.  As your daily companion, with Microsoft 365 mobile apps, it offers assistance with everyday tasks and commitments to help you achieve a sense of wellbeing and control with the possibility of getting extraordinary things done.  Our apps provide the ability for you to transform and collaborate around modern multimedia content and help provide the privacy and protection you need to safely express yourself from your mobile devices.  For organizations, providing new ways to create, curate, and collaborate around mobile, user-generated content will unleash the power of your workforce’s creativity.  And supporting a secure and inclusive culture for self-expression that is centered on people’s data and identity protection will free workers to focus on business outcomes.  Microsoft helps you stay in control of your day with Outlook as your personal organizer, Teams as your hub for teamwork, and Office as a workplace for your content.  Let’s explore how Microsoft 365 mobile apps and services are evolving with the changes in people’s mobility and connectivity.  Helpful ways to organize your life The shift to remote work and the changes brought on by the global pandemic have resulted in an explosion of apps and services and the blurring between work and personal lives that ties us to our devices around the clock.  More tools often mean more notifications and distractions that make it hard to focus on what matters.  We are investing in AI at scale to learn how people work, collaborate, and connect so we can help them stay in control of their day, and feel more balanced and organized.  Freeing people from being tied to screens, simplifying tasks into micro workflows, minimizing the burden of app, and process disaggregation are all capabilities centered on people’s evolving needs—helping them in turn focus on work and personal commitments.  Productivity assistance experiences in Outlook Microsoft is reducing the effort it takes to perform frequent tasks and actions by building assistive, anticipatory experiences, and providing a more natural way of automating your day-to-day activities (processes and workflows).  We will soon roll out the first Microsoft 365 conversational AI capability in Outlook across email, calendar, and search.  With this update, Cortana will be able to orchestrate your voice input with on-screen experiences to simplify your personal productivity and organization.  You will be able to manage your time and schedule events and meetings in Outlook, add participants to meeting invitations, and compose messages using your voice, speaking with the language you use every day.  By harnessing the full power of human voice, Microsoft AI, and the intelligent technology of the Microsoft Graph, we are starting our journey to enable Cortana to learn about you and your preferences in grammar and recognize your voice nuances, accent, and dialect.  This new capability is our first step towards a full conversation experience.  Our goal is to make it faster and easier to ask Cortana to help get things done with your voice than typing on a small keyboard—it’s with the intelligence that comes from the Graph that enables Cortana to get to know the people with whom you work, collaborate, meet, correspond, and share.  Cortana, your personal productivity assistant enables conversational AI in Outlook for iOS.  Cortana in Microsoft Teams We’re also announcing that Cortana in the Teams mobile app will soon be expanding beyond English in the U. S.  to English in Australia, Canada, U. K. , and India.  With Cortana in Teams, you can use spoken, natural language commands.  Click the button on the top right and ask Cortana to make a call, join a meeting, send chat messages, share files, and more.  Microsoft Search in Teams and Office mobile is adding support for natural language queries in English in the U. S.  With Teams mobile, you will be able to type phrases in the search box or tap on the mic to ask Cortana to find messages, chats, meetings, people, files, and links bookmarked by administrators in a way that covers keywords as well as a range of time in Teams.  In addition, you will also be able to ask Cortana to look for messages or chats from a particular person, topic, or across a range of time.  For example, “Find the Marketing deck from last month” or “Search for messages from Megan. ” Use natural language to find what you need in Teams In Office mobile, you can use Microsoft Search when you use a work account with your Android device to easily find files you need using natural language.  To enable collaboration and connectivity to your content from virtually anywhere, Office mobile will also enable you to easily find and manage your multimedia content.  Scanned documents, pictures, and other images will be automatically organized into albums where you can add more images as necessary.  For example, receipts from restaurants can be saved in a single album, easily retrieved, converted to PDF, and shared any time.  Albums can also be saved in OneDrive.  For business customers, images will also be searchable based on the content of the image, in addition to the standard file name.  These updates will roll out first in English to customers in the United States for Office for Android in the coming weeks, followed by Office for iOS.  Micro tasking shortcuts Many of life’s little tasks and much of our daily work are getting done in fleeting moments.  People need the tools and tips that support quick actions.  Whether we like to refer to these things on our To Do list as life hacks or micro tasks, Microsoft is delivering experiences in mobile apps that automate mini workflows to lighten the burden of your everyday commitments and tasks.  Here are just a few that are either already in the apps you use every day or rolling out soon: Create a quick form or poll in Office or Teams and check out responses in the apps.  in Office or Teams and check out responses in the apps.  Plan your time outdoors with a glance of the insight into daily weather forecast, found in your Outlook mobile calendar in the coming weeks.  Weather based on your location in Outlook.  Tap a link to a website from an email in Outlook mobile and stay in the context of your message conversation an integrated Bing web-view .  .  Use the Microsoft To Do widget on your Apple iOS device when it’s available in February to keep your commitments on track.  Add a widget for your To Do’s on your home screen.  Save time and money when shopping with Microsoft Edge on your phone with easy access to coupons, a feature built-in to the browser that helps you find available discounts when you visit retailer sites.  Look for the blue price tag in the URL bar to get started.  Add shortcuts for files shared with you in your own OneDrive so it’s easier to access from one place.  shared with you in your own OneDrive so it’s easier to access from one place.  It’s estimated that people can be 30 percent more productive when using dual desktop screens—imagine what you can do with multiple mobile apps open side by side on your Windows 10 PC from your phone app on supported Samsung smartphones.  side by side on your Windows 10 PC from your phone app on supported Samsung smartphones.  Easily reference notes you create by syncing Samsung Notes with OneNote feed .  Simply create notes with your Samsung phone, then pull them up when you are back working on your desktop via the OneNote feed.  .  Simply create notes with your Samsung phone, then pull them up when you are back working on your desktop via the OneNote feed.  Increase the effectiveness of your online meeting collaboration from your Android device with Microsoft Whiteboard in Teams, as well as Sticky Notes and Text.  Transform your physical world into digital There was a time when mobile devices were primarily used to access information and media viewing.  But since then, where, what, and when people use their mobile devices has evolved.  There’s now a proliferation of modern content and multimedia created using mobile devices.  For example, YouTube has become known as one of the primary learning content resources for businesses and personal video sharing through social platforms is now commonplace worldwide.  We realize that people are using their phones and tablets as an additional screen—no longer in your purse or pocket but constantly beside you, on your desk, or in your hand.  As an additional screen, mobile devices are being used for back up when the internet network is unavailable or unstable, for multi-tasking on different apps across devices, as storage for drafts or photos, or to use specific mobile features such as the camera or mic.  Creation, communication, and collaboration are now all central to mobile productivity which means that people need their content and important documents to be digitized and available from anywhere across devices.  Where once Microsoft was the leader in paper digitization with the advent of the PC and disk storage, we are now a leader in cloud computing and the digitization of everything else, making it less about the device and more about the mobility and connectivity of people.  We are introducing new capabilities that will help accelerate the transformation of your physical world into digital with mobile technology so you can create and collaborate around modern people generated content.  One of the Microsoft 365 technologies that simplifies this digital transformation is Microsoft Lens.  The new Microsoft Lens will enable the integration of short video bites in Teams Chat.  If a picture speaks a thousand words, imagine what video content collaboration can do to advance teamwork when you enable people to express their ideas with self-created, video content.  With Microsoft Lens built into Teams, you will be able to record a short video, annotate it with text, emojis, do basic editing, and add live filters.  In real-time, add your thoughts about what you’re capturing with video from Teams and share it immediately with your colleagues.  Expect to see this capability integrated into Teams in preview by the end of this quarter.  Take short video snippets, annotate, and share your thoughts in Teams Put a lens on things that matter Handwriting from whiteboards, notes, letters, and other non-typed text can also be scanned and transcribed.  The capability will first be available in the Microsoft Lens app and followed by Office mobile in a future release.  You will be able to scan handwritten letters, to-do lists, and other material and simply convert it into text.  Transcribe handwriting into text in your Office documents.  Microsoft has improved the scanning quality with the Lens technology with better edge detection and added filters too.  Over time, these improvements will be added where the Lens technology is already integrated across Microsoft 365 apps such as Teams, Outlook, and Office.  Office mobile has also enhanced the PDF annotation capabilities in Actions.  Now you will be able to add notes, shapes, dates, and timestamps to your PDF documents in addition to the existing inking functionality.  Combining Word, Excel, and PowerPoint into one Office app on iPad is a powerful way to create content with the camera, sign PDFs, take notes, and collaborate with others.  We’re pleased to optimize the Office experience on your preferred devices and once available in the Apple App Store, Office for iPad can be your go-to app for getting work done.  Office optimized for iPad and multitasking.  Personalize and protect your digital identity Increasingly, people are using their personal devices for work as well as sharing them more between coworkers and family members.  This adds complexities for organizations to keep company data safe while enabling employees to work and connect the way they need to individually and as teams.  People need confidence that when they use their mobile apps to represent themselves digitally, their privacy is protected, and their sensitive information is kept safe through their end-to-end content creation, communications, and collaboration journey.  As Microsoft is run on trust, we are rolling out mandatory sensitivity labeling in Outlook mobile and will be rolling it out in Office by the end of the quarter.  Microsoft Information Protection gives organizations the ability to define the policies required to help protect company data and meet compliance requirements.  By setting the policies at the organizational level it helps employees stay compliant and reduces accidental sharing of information outside the organizational boundaries.  We’ve built the full strength of Microsoft security, compliance, and identity solutions into Microsoft 365 mobile apps.  From threat and data protection to app and risk-based access management, you can read the full story in a new article we are publishing today.  People are increasingly using their mobile phones to present their digital self, and now as content creators, also value the flexibility to personalize their experience and brand themselves when using mobile technology.  Adding sentiment to your communications is a way to represent yourself authentically in your communications.  You can already add reactions in social and team environments such as Yammer and Teams, but indirect, asynchronous email communications, how do you share your sentiment without generating masses of additional messages? Reactions in Outlook offer a new way to add sentiment and reactions to emails and conversations and we are announcing today that general availability will start to roll out in the coming weeks in Outlook mobile and on the web.  Through a new inbox notification experience, you will be able to glean the sentiment of other Outlook users and add to email conversations without filling up your inbox.  In future releases, we plan to add @mentions and other notifications in Outlook too.  Let them know how you feel with reactions in Outlook.  Microsoft 365 mobile apps center on the needs of people, to help them be their authentic self, to create, collaborate, communicate, and stay organized on mobile in quick and secure ways.  Our goal is to also help organizations support their workforce with the best possible mobile experience.  To this end, we recently released a new mobile adoption center for Microsoft 365.  We encourage you to try all the new capabilities mentioned in today’s article when they become available to you in Teams, Office, and Outlook, and the rest of the suite of Microsoft 365 mobile apps and as always, we love to get your feedback.  Lear\n",
            "Text number 21 : 9 दिसंबर, 2020|10:17|IST\n",
            "Text number 22 : 15 दिसंबर, 2020|4:13|IST\n",
            "Text number 23 : 15 फरवरी, 2021|6:50|IST\n",
            "Text number 24 : इयरफोन्स और ऐक्सेसरीज चार्जिंग के लिए लो पावर मोड भी दिया गया है. .  OnePlus Power Launch: वन प्लस का ये पावर बैंक 18W फास्ट चार्ज सपोर्ट करता है.  इससे एक साथ दो स्मार्टफोन चार्ज कर सकते हैं.  स्टोरी हाइलाइट्सOnePlus ने भारत में नया Power Bank लॉन्च किया है. OnePlus के इस पावर बैंक की कैपेसिटी 10,000mAh की है. ये फ़ास्ट चार्जिंग सपोर्ट करता है और एक साथ दो फ़ोन चार्ज कर सकते हैंचीनी स्मार्टफ़ोन मेकर OnePlus ने भारत में एक नया पावर बैंक लॉन्च किया है.  दरअसल इसे कंपनी ने OnePlus 8T इवेंट के दौरान ही लॉन्च किया था.  OnePlus का ये पावर बैंक 18W फ़ास्ट चार्ज सपोर्ट करता है.  ख़ास बात ये है कि इससे एक साथ दो स्मार्टफोन्स चार्ज कर सकते हैं.  इसके लिए इसमें डुअल यूएसबी पोर्ट दिया गया है. OnePlus Power Bank में 10,000mAh की बैटरी है और कंपनी ने दावा किया है कि इसमें 12 लेयर सर्किट प्रोटेक्शन दिया गया है.  OnePlus Power Bank की कीमत 1,299 रुपये है और इसे फिलहाल भारत में ही बेचा जाएगा.  अर्ली ऐक्सेस के तहत इसे 15 अक्टूबर से OnePlus ऐप और वेबसाइट पर मिल रहा है. आज से Amazon और Flipkart पर भी इसकी बिक्री शुरू है.  इसे ग्रीन कलर वेरिएंट में बेचा जा रहा है. इस पावर बैंक में दो अलग अलग मोड्स दिए गए हैं.  कंपनी के मुताबिक़ इसमें दिए बटन को डबल क्लिक करके लो पावर ऐक्टिवेट कर सकते हैं.  इससे इयरफोन्स और दूसरे ऐक्सेरीज को चार्ज कर सकते हैं.  headtopics. com OnePlus Power Bank में लिथियम पॉलिमर बैटरी दी गई है.  इसकी बॉडी 3D कर्व्ड डिजाइन वाली है.  इससे दो स्मार्टफोन्स एक साथ चार्ज कर सकेंगे. इसके साथ आप माइक्रो यूएसबी या टाइप सी दोनों केबल लगा कर यूज कर सकते हैं.  इसके लिए कंपनी ने इसमें 2-1 चार्जिंग केबल दिया है.  बंगाल के चुनावी रण में धधका कोयला, पहले दीदी की दस्तक, फिर पहुंची अभिषेक बनर्जी के घर CBI! देखें शंखनाद कोल स्मगलिंग केस में सीबीआई जांच की आंच ने बंगाल की चुनावी सियासत में खलबली मचा रखी है.  ममता बनर्जी के परिवार पर कोयले की तस्करी के आरोप, कालिख बनकर लगे हुए हैं.  आज सीबीआई ममता बनर्जी के भतीजे अभिषेक बनर्जी के घर पर पहुंची.  सीबीआई ने ममता बनर्जी की बहू और अभिषेक बनर्जी की पत्नी रुजिरा से करीब डेढ़ घंटे पूछताछ की.  लेकिन सीबीआई जब अभिषेक के घर पहुंची, उसके ठीक पहले ही ममता बनर्जी अभिषेक के घर पहुंच गईं.  ममता बनर्जी का अभिषेक के घर पहुंचना, सीधे तौर पर ये संदेश देना है कि सीबीआई की इस लड़ाई में ममता बनर्जी भतीजे अभिषेक के साथ खुलकर खड़ी हैं.  क्यों सुलगी है सियासत, देखें शंखनाद, चित्रा त्रिपाठी के साथ.  Is it MADE IN INDIA product? If not why do you promote them? Don’t you support AtmaNirbharBharat ? OnePlus 8T भारत में लॉन्च.  48MP कैमरा वाले इस फोन में हैं कई खूबियां, जानें कीमतOnePlus 8T Price and Specs: भारत में लॉन्च हुआ वनप्लस 8टी। Amazon पर होगी इस OnePlus स्मार्टफोन की बिक्री, यहां जानें कीमत और फीचर्स से जुड़ी डिटेल्स। Samsung Galaxy M31 Prime लॉन्च, 3 महीने की Amazon Prime मेंबरशिप मिलेगी फ्रीSamsung Galaxy M31 Prime Price in India: भारत में लॉन्च हुआ ये दमदार स्मार्टफोन, यहां जानें इस Samsung Mobile फोन की कीमत, फीचर्स और सेल तारीख से जुड़ी डिटेल्स। OnePlus 8T चार कैमरे और 65W की फास्ट चार्जिंग के साथ हुआ लॉन्चOnePlus 8T में कनेक्टिविटी के लिए 5G, 4G,डुअल बैंड वाई-फाई, ब्लूटूथ 5. 1, जीपीएस, एनएफसी, ग्लोनास और यूएसबी टाइप-सी चार्जिंग पोर्ट 108MP कैमरे वाला Mi 10T Pro भारत में इन खूबियों के साथ लॉन्च, जानें कीमतLatest Smartphones: Xiaomi के Mi 10T और Mi 10T Pro हुए भारत में लॉन्च। Flipkart पर होगी Mi 10T Series की बिक्री, जानें कीमत और फीचर्स के बारे में। OnePlus 8T लॉन्च हुआ भारत में, 65 वॉट फास्ट चार्जिंग और चार रियर कैमरे हैं इसमेंOnePlus 8T को Amazon और OnePlus India की वेबसाइट पर 17 अक्टूबर से उपलब्ध कराया जाएगा। गौर करने वाली बात है कि इसी दिन अमेज़न ग्रेट इंडियन सेल शुरू होने वाली है। भारत मे बना एप्पल का फोन खरीदो इस चीनी कंपनी के फोन की जगह भारत_की_पहचान_मदरसा Mi True Wireless Earphones 2C भारत में लॉन्च, जानें कीमत और फीचर्सXiaomi ने भारत में अपना नया ट्रू वायरलेस इयरफोन्स लॉन्च कर दिया है.  कंपनी के मुताबिक़ इसमें 14. 2mm के ड्राइवर्स दिए गए हैं.  Phle to boycott china product ab ye kya k h .  Publicity de rho ho.  Same on you Ye hindustan ka itihas raha h sadiyo se. .  Niji swarth k liye k\n",
            "Text number 25 : Pune (Maharashtra) [ India], February 1 (ANI/NewsVoir): Buying the latest smartphone with cutting-edge technology can be a tough task, especially when one must consider the budget, different features, configurations etc.  However, one can shop online from the EMI Store of Bajaj Finserv and get their hands on premium smartphones without worrying about the costs.  Avail exclusive benefits like No Cost EMI, zero down payment, same-day delivery and much more.  The EMI Store hosts a variety of smartphones from different brands like OPPO, Xiaomi, Samsung, Redmi, Nokia, realme, Apple and Vivo.  That's not all, customers can enjoy a cashless and hassle-free shopping experience on the EMI Store of Bajaj Finserv.  With over 1 million products to choose from, customers can shop for just about anything ranging from smartphones, tablets, televisions, and home appliances like washing machines, air-conditioners, refrigerators & fitness equipment.  Customers can choose a brand of their choice from a dealer located closest to them from Bajaj Finserv's 43,000-strong EMI Network.  By doing so, they are assured quick delivery of their product.  The EMI Store currently hosts a number of newly launched mobile phones like the Oppo Reno5 Pro on No Cost EMI starting Rs.  1,714, and the all-new Samsung Galaxy S21 range of phones namely the Galaxy S21, Galaxy S21+, and Galaxy S21 Ultra which offer an unparallel premium smartphone experience.  Customers can also find some of the best-selling smartphones like the Oppo F17 - which is available on EMIs starting Rs.  1,133/- and the Vivo Y20 on EMI starting Rs.  1,299.  In addition, customers can also shop online for the following smartphones available at attractive EMIs on the EMI store of Bajaj Finserv.  Smartphone - No Cost EMI starting at Vivo Y20 - Rs 1,299 Oppo F17 - Rs 1,133 Vivo V20 - Rs 1,388 Redmi Note 9 Pro Max - Rs1,417 Samsung Galaxy A21s - Rs 1,000 Oppo A53 - Rs 1,249 Listed below are reasons why one should shop on the EMI Store: 1.  Same-day delivery By shopping on the EMI Store, customers can avail products from their favourite dealer and enjoy doorstep delivery on the same day.  2.  Zero down payment One can choose the zero down payment option on select products and take home the latest smartphone or electronics without paying anything while purchasing the product from the EMI Store.  3.  No Cost EMI with flexible repayment tenure Customers can purchase the latest smartphone on No Cost EMIs while shopping on the EMI Store.  Apart from that, they can select their repayment tenure according to their convenience ranging up to 24 months.  4.  Cash-free shopping experience Customers can shop online for the latest smartphone from the comfort of their homes by using the Bajaj Finserv EMI Network Card.  This digital card comes with a pre-approved loan amount up to Rs.  4 lakhs which can be used while shopping for smartphones and electronics like laptops, LED TVs, etc.  Existing customers of the Bajaj Finserv EMI Network can also benefit from pre-approved offers.  Shoppers can not only place their order and pay for it online, but they can also enjoy delivery at their doorstep the very same day, often in around four hours.  Finserv MARKETS has been launched by Bajaj Finserv Direct Limited, a subsidiary of Bajaj Finserv.  It is a one-stop digital marketplace that helps consumers compare and choose from a wide range of financial products.  It has partnered with leading financial providers in the Lending, Insurance, Investments and Payments space to provide 500+ financial and lifestyle products, all in one place.  Its core proposition, Offers You Value, is driven by a strong intent to deliver tailor-made financial offers to its consumers.  So, from selecting from multiple loans offers to getting the loan amount credited into their bank account on the same day, from receiving a credit card instantly to purchasing an insurance policy, from investing in the best mutual funds to purchasing the latest gadgets on Zero Interest EMI, consumers can now get all their personal and financial life goals delivered at Finserv MARKETS.  This story is provided by NewsVoir.  ANI will not be responsible in any way for the content of this article.  (ANI/NewsVoir) DISCLAIMER (This story has not been edited by Business St\n",
            "Text number 26 : पोर्ट्रोनिक्स ने फिंगरप्रिंट सेंसर के साथ स्मार्ट होम के लिए बायोलॉक का परिचय दिया - पोर्ट्रोनिक्स ने लॉन्च किया स्मार्टफ़ोन, कैमरा से ओपनगा, 30 मिनट की चार्जिंग में 6 महीने की रिमगी बैटरी -\n"
          ],
          "name": "stdout"
        }
      ]
    },
    {
      "cell_type": "code",
      "metadata": {
        "id": "9szjTE4ChGSp"
      },
      "source": [
        ""
      ],
      "execution_count": null,
      "outputs": []
    }
  ]
}